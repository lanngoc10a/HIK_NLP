{
 "cells": [
  {
   "cell_type": "markdown",
   "metadata": {},
   "source": [
    "# Task 1 "
   ]
  },
  {
   "cell_type": "code",
   "execution_count": 1,
   "metadata": {},
   "outputs": [],
   "source": [
    "import pandas as pd\n",
    "import numpy as np \n",
    "import matplotlib.pyplot as plt "
   ]
  },
  {
   "cell_type": "code",
   "execution_count": 2,
   "metadata": {},
   "outputs": [],
   "source": [
    "df = pd.read_csv(r'C:\\Users\\sebas\\Desktop\\heart.csv')"
   ]
  },
  {
   "cell_type": "code",
   "execution_count": 3,
   "metadata": {
    "scrolled": true
   },
   "outputs": [
    {
     "name": "stdout",
     "output_type": "stream",
     "text": [
      "<class 'pandas.core.frame.DataFrame'>\n",
      "RangeIndex: 303 entries, 0 to 302\n",
      "Data columns (total 14 columns):\n",
      " #   Column    Non-Null Count  Dtype  \n",
      "---  ------    --------------  -----  \n",
      " 0   age       303 non-null    int64  \n",
      " 1   sex       303 non-null    int64  \n",
      " 2   cp        303 non-null    int64  \n",
      " 3   trestbps  303 non-null    int64  \n",
      " 4   chol      303 non-null    int64  \n",
      " 5   fbs       303 non-null    int64  \n",
      " 6   restecg   303 non-null    int64  \n",
      " 7   thalach   303 non-null    int64  \n",
      " 8   exang     303 non-null    int64  \n",
      " 9   oldpeak   303 non-null    float64\n",
      " 10  slope     303 non-null    int64  \n",
      " 11  ca        303 non-null    int64  \n",
      " 12  thal      303 non-null    int64  \n",
      " 13  target    303 non-null    int64  \n",
      "dtypes: float64(1), int64(13)\n",
      "memory usage: 33.3 KB\n"
     ]
    }
   ],
   "source": [
    "df.info()"
   ]
  },
  {
   "cell_type": "code",
   "execution_count": 4,
   "metadata": {},
   "outputs": [
    {
     "data": {
      "text/html": [
       "<div>\n",
       "<style scoped>\n",
       "    .dataframe tbody tr th:only-of-type {\n",
       "        vertical-align: middle;\n",
       "    }\n",
       "\n",
       "    .dataframe tbody tr th {\n",
       "        vertical-align: top;\n",
       "    }\n",
       "\n",
       "    .dataframe thead th {\n",
       "        text-align: right;\n",
       "    }\n",
       "</style>\n",
       "<table border=\"1\" class=\"dataframe\">\n",
       "  <thead>\n",
       "    <tr style=\"text-align: right;\">\n",
       "      <th></th>\n",
       "      <th>age</th>\n",
       "      <th>sex</th>\n",
       "      <th>cp</th>\n",
       "      <th>trestbps</th>\n",
       "      <th>chol</th>\n",
       "      <th>fbs</th>\n",
       "      <th>restecg</th>\n",
       "      <th>thalach</th>\n",
       "      <th>exang</th>\n",
       "      <th>oldpeak</th>\n",
       "      <th>slope</th>\n",
       "      <th>ca</th>\n",
       "      <th>thal</th>\n",
       "      <th>target</th>\n",
       "    </tr>\n",
       "  </thead>\n",
       "  <tbody>\n",
       "    <tr>\n",
       "      <th>0</th>\n",
       "      <td>63</td>\n",
       "      <td>1</td>\n",
       "      <td>3</td>\n",
       "      <td>145</td>\n",
       "      <td>233</td>\n",
       "      <td>1</td>\n",
       "      <td>0</td>\n",
       "      <td>150</td>\n",
       "      <td>0</td>\n",
       "      <td>2.3</td>\n",
       "      <td>0</td>\n",
       "      <td>0</td>\n",
       "      <td>1</td>\n",
       "      <td>1</td>\n",
       "    </tr>\n",
       "    <tr>\n",
       "      <th>1</th>\n",
       "      <td>37</td>\n",
       "      <td>1</td>\n",
       "      <td>2</td>\n",
       "      <td>130</td>\n",
       "      <td>250</td>\n",
       "      <td>0</td>\n",
       "      <td>1</td>\n",
       "      <td>187</td>\n",
       "      <td>0</td>\n",
       "      <td>3.5</td>\n",
       "      <td>0</td>\n",
       "      <td>0</td>\n",
       "      <td>2</td>\n",
       "      <td>1</td>\n",
       "    </tr>\n",
       "    <tr>\n",
       "      <th>2</th>\n",
       "      <td>41</td>\n",
       "      <td>0</td>\n",
       "      <td>1</td>\n",
       "      <td>130</td>\n",
       "      <td>204</td>\n",
       "      <td>0</td>\n",
       "      <td>0</td>\n",
       "      <td>172</td>\n",
       "      <td>0</td>\n",
       "      <td>1.4</td>\n",
       "      <td>2</td>\n",
       "      <td>0</td>\n",
       "      <td>2</td>\n",
       "      <td>1</td>\n",
       "    </tr>\n",
       "    <tr>\n",
       "      <th>3</th>\n",
       "      <td>56</td>\n",
       "      <td>1</td>\n",
       "      <td>1</td>\n",
       "      <td>120</td>\n",
       "      <td>236</td>\n",
       "      <td>0</td>\n",
       "      <td>1</td>\n",
       "      <td>178</td>\n",
       "      <td>0</td>\n",
       "      <td>0.8</td>\n",
       "      <td>2</td>\n",
       "      <td>0</td>\n",
       "      <td>2</td>\n",
       "      <td>1</td>\n",
       "    </tr>\n",
       "    <tr>\n",
       "      <th>4</th>\n",
       "      <td>57</td>\n",
       "      <td>0</td>\n",
       "      <td>0</td>\n",
       "      <td>120</td>\n",
       "      <td>354</td>\n",
       "      <td>0</td>\n",
       "      <td>1</td>\n",
       "      <td>163</td>\n",
       "      <td>1</td>\n",
       "      <td>0.6</td>\n",
       "      <td>2</td>\n",
       "      <td>0</td>\n",
       "      <td>2</td>\n",
       "      <td>1</td>\n",
       "    </tr>\n",
       "  </tbody>\n",
       "</table>\n",
       "</div>"
      ],
      "text/plain": [
       "   age  sex  cp  trestbps  chol  fbs  restecg  thalach  exang  oldpeak  slope  \\\n",
       "0   63    1   3       145   233    1        0      150      0      2.3      0   \n",
       "1   37    1   2       130   250    0        1      187      0      3.5      0   \n",
       "2   41    0   1       130   204    0        0      172      0      1.4      2   \n",
       "3   56    1   1       120   236    0        1      178      0      0.8      2   \n",
       "4   57    0   0       120   354    0        1      163      1      0.6      2   \n",
       "\n",
       "   ca  thal  target  \n",
       "0   0     1       1  \n",
       "1   0     2       1  \n",
       "2   0     2       1  \n",
       "3   0     2       1  \n",
       "4   0     2       1  "
      ]
     },
     "execution_count": 4,
     "metadata": {},
     "output_type": "execute_result"
    }
   ],
   "source": [
    "df.head()"
   ]
  },
  {
   "cell_type": "code",
   "execution_count": 5,
   "metadata": {},
   "outputs": [
    {
     "data": {
      "text/plain": [
       "pandas.core.series.Series"
      ]
     },
     "execution_count": 5,
     "metadata": {},
     "output_type": "execute_result"
    }
   ],
   "source": [
    "X = df.loc[:,df.columns!=\"target\"]\n",
    "type(X)\n",
    "\n",
    "y = df[\"target\"]\n",
    "type(y)"
   ]
  },
  {
   "cell_type": "code",
   "execution_count": 6,
   "metadata": {},
   "outputs": [],
   "source": [
    "from sklearn.model_selection import train_test_split\n",
    "X_train, X_test, y_train, y_test = train_test_split(X, y, test_size=0.2,random_state=0)"
   ]
  },
  {
   "cell_type": "code",
   "execution_count": 7,
   "metadata": {},
   "outputs": [
    {
     "data": {
      "text/plain": [
       "array([[ 1.69716475,  0.69617712, -0.92274852,  0.77251645, -1.36354075,\n",
       "        -0.41803981,  0.90163913, -1.07375268,  1.40984195,  1.2900049 ,\n",
       "        -2.27916533, -0.70710678,  1.14190596],\n",
       "       [ 1.02496529,  0.69617712,  1.94013791,  2.23625729, -0.3703119 ,\n",
       "        -0.41803981, -0.97936664,  0.22375805, -0.70929937, -0.38883987,\n",
       "        -0.66169316, -0.70710678,  1.14190596],\n",
       "       [ 0.46479907,  0.69617712,  1.94013791,  2.23625729,  0.7728383 ,\n",
       "        -0.41803981, -0.97936664,  0.39675948, -0.70929937, -0.72460883,\n",
       "        -0.66169316, -0.70710678,  1.14190596],\n",
       "       [ 0.57683232,  0.69617712, -0.92274852, -0.39847623,  0.21063328,\n",
       "        -0.41803981, -0.97936664, -0.38174696,  1.40984195,  1.45788938,\n",
       "        -0.66169316,  0.26516504,  1.14190596],\n",
       "       [ 0.8008988 ,  0.69617712,  0.98584243, -0.10572806, -0.29535123,\n",
       "        -0.41803981,  0.90163913, -0.16549517, -0.70929937,  0.61846699,\n",
       "        -0.66169316,  2.20970869,  1.14190596],\n",
       "       [-0.7675666 ,  0.69617712, -0.92274852, -0.45702586,  0.51047596,\n",
       "        -0.41803981, -0.97936664,  0.69951198, -0.70929937, -0.47278211,\n",
       "        -0.66169316, -0.70710678,  1.14190596],\n",
       "       [-1.66383254,  0.69617712, -0.92274852, -1.27672073, -1.49472192,\n",
       "        -0.41803981, -0.97936664, -1.54950661,  1.40984195,  0.78635147,\n",
       "        -0.66169316, -0.70710678,  1.14190596],\n",
       "       [ 0.91293205,  0.69617712, -0.92274852, -0.10572806,  0.13567261,\n",
       "        -0.41803981, -0.97936664, -0.12224481, -0.70929937,  0.28269804,\n",
       "        -0.66169316,  0.26516504,  1.14190596],\n",
       "       [ 0.12869935, -1.43641607, -0.92274852,  3.9927463 ,  0.7728383 ,\n",
       "         2.39211668, -0.97936664, -0.72774982,  1.40984195,  2.46519624,\n",
       "        -2.27916533,  1.23743687,  1.14190596],\n",
       "       [ 0.91293205,  0.69617712, -0.92274852, -0.10572806,  1.55992532,\n",
       "         2.39211668, -0.97936664, -0.77100017,  1.40984195,  0.61846699,\n",
       "         0.95577901,  2.20970869,  1.14190596],\n",
       "       [ 0.24073259,  0.69617712,  0.98584243,  1.06526461, -2.26306878,\n",
       "         2.39211668,  0.90163913,  1.00226448, -0.70929937, -0.72460883,\n",
       "         0.95577901,  0.26516504,  1.14190596],\n",
       "       [-0.65553336, -1.43641607, -0.92274852, -0.10572806,  0.41677512,\n",
       "        -0.41803981,  0.90163913,  0.56976091, -0.70929937, -0.89249331,\n",
       "         0.95577901, -0.70710678, -0.46472917],\n",
       "       [ 1.13699853,  0.69617712, -0.92274852,  0.18702011,  0.13567261,\n",
       "        -0.41803981, -0.97936664, -0.98725196, -0.70929937,  1.45788938,\n",
       "        -0.66169316,  0.26516504,  1.14190596],\n",
       "       [-0.65553336,  0.69617712,  0.03154696, -0.10572806,  0.36055462,\n",
       "        -0.41803981,  0.90163913,  0.91576377, -0.70929937, -0.38883987,\n",
       "         0.95577901, -0.70710678, -0.46472917],\n",
       "       [-0.54350011, -1.43641607,  0.98584243, -0.69122439, -0.52023323,\n",
       "        -0.41803981,  0.90163913,  0.35350912, -0.70929937,  0.45058251,\n",
       "        -0.66169316, -0.70710678, -0.46472917],\n",
       "       [-0.43146687,  0.69617712,  0.98584243, -1.86221707, -0.46401273,\n",
       "        -0.41803981,  0.90163913, -0.29524624,  1.40984195,  0.11481356,\n",
       "        -0.66169316, -0.70710678, -0.46472917],\n",
       "       [-0.31943363,  0.69617712, -0.92274852, -1.39382   , -0.25787089,\n",
       "         2.39211668,  0.90163913, -0.12224481, -0.70929937, -0.80855107,\n",
       "         0.95577901,  2.20970869,  1.14190596],\n",
       "       [-0.7675666 ,  0.69617712,  0.98584243, -0.45702586,  0.15441278,\n",
       "         2.39211668,  0.90163913,  1.0887652 , -0.70929937, -0.89249331,\n",
       "         0.95577901,  1.23743687, -0.46472917],\n",
       "       [ 0.8008988 ,  0.69617712, -0.92274852, -0.69122439,  0.37929479,\n",
       "        -0.41803981,  0.90163913, -2.19826197,  1.40984195,  0.61846699,\n",
       "        -0.66169316,  1.23743687,  1.14190596],\n",
       "       [-1.43976606,  0.69617712,  0.98584243, -0.69122439, -0.12668972,\n",
       "         2.39211668,  0.90163913,  1.91052199, -0.70929937, -0.2209554 ,\n",
       "        -2.27916533, -0.70710678,  1.14190596],\n",
       "       [-1.43976606,  0.69617712, -0.92274852,  0.47976828, -0.38905206,\n",
       "        -0.41803981,  0.90163913,  1.21851627, -0.70929937, -0.89249331,\n",
       "         0.95577901, -0.70710678, -0.46472917],\n",
       "       [-1.77586579,  0.69617712, -0.92274852, -0.80832366, -0.52023323,\n",
       "        -0.41803981,  0.90163913, -0.42499731, -0.70929937,  0.11481356,\n",
       "        -0.66169316, -0.70710678,  1.14190596],\n",
       "       [ 0.8008988 ,  0.69617712,  0.03154696, -0.69122439,  0.64165713,\n",
       "        -0.41803981, -0.97936664, -2.02526054, -0.70929937,  0.28269804,\n",
       "        -0.66169316,  0.26516504,  1.14190596],\n",
       "       [-0.09536714,  0.69617712, -0.92274852, -1.27672073, -0.76385541,\n",
       "        -0.41803981, -0.97936664, -1.80900875,  1.40984195, -0.89249331,\n",
       "        -0.66169316,  0.26516504, -0.46472917],\n",
       "       [-1.5517993 ,  0.69617712,  0.03154696, -1.27672073, -0.22039056,\n",
       "        -0.41803981,  0.90163913,  0.13725733, -0.70929937, -0.89249331,\n",
       "         0.95577901, -0.70710678, -0.46472917],\n",
       "       [ 0.8008988 , -1.43641607,  0.98584243, -0.10572806,  0.30433412,\n",
       "        -0.41803981,  0.90163913, -2.28476268, -0.70929937,  0.11481356,\n",
       "        -0.66169316,  0.26516504,  1.14190596],\n",
       "       [-0.31943363,  0.69617712, -0.92274852, -0.39847623, -0.6514144 ,\n",
       "        -0.41803981,  0.90163913,  0.78601269, -0.70929937, -0.05307092,\n",
       "         0.95577901,  1.23743687,  1.14190596],\n",
       "       [-0.99163309,  0.69617712, -0.92274852, -0.69122439,  0.04197178,\n",
       "        -0.41803981, -0.97936664, -0.25199588, -0.70929937, -0.2209554 ,\n",
       "         0.95577901, -0.70710678,  1.14190596],\n",
       "       [-1.77586579, -1.43641607,  0.98584243,  0.36266901, -0.50149307,\n",
       "        -0.41803981,  0.90163913,  0.09400698, -0.70929937, -0.89249331,\n",
       "        -0.66169316, -0.70710678, -0.46472917],\n",
       "       [-0.31943363,  0.69617712,  0.03154696,  0.12847048, -0.85755624,\n",
       "        -0.41803981,  0.90163913,  0.35350912, -0.70929937, -0.2209554 ,\n",
       "         0.95577901,  0.26516504, -0.46472917],\n",
       "       [ 0.57683232,  0.69617712,  0.98584243,  0.47976828, -1.15739892,\n",
       "        -0.41803981, -0.97936664,  0.22375805, -0.70929937,  1.62577385,\n",
       "        -0.66169316, -0.70710678, -0.46472917],\n",
       "       [-1.10366633,  0.69617712, -0.92274852,  0.59686755,  1.16638181,\n",
       "        -0.41803981, -0.97936664, -0.12224481,  1.40984195, -0.89249331,\n",
       "        -0.66169316,  2.20970869,  1.14190596],\n",
       "       [-1.5517993 , -1.43641607,  0.03154696, -0.33992659,  1.11016131,\n",
       "        -0.41803981,  0.90163913,  0.56976091, -0.70929937, -0.89249331,\n",
       "         0.95577901, -0.70710678, -0.46472917],\n",
       "       [-0.31943363,  0.69617712,  0.98584243,  2.35335655, -0.89503658,\n",
       "         2.39211668,  0.90163913,  0.52651055, -0.70929937, -0.47278211,\n",
       "         0.95577901, -0.70710678,  1.14190596],\n",
       "       [-2.22399876,  0.69617712,  0.03154696, -0.57412513, -1.02621775,\n",
       "        -0.41803981,  0.90163913,  1.04551484, -0.70929937, -0.89249331,\n",
       "         0.95577901, -0.70710678, -0.46472917],\n",
       "       [ 0.46479907, -1.43641607, -0.92274852,  2.47045582,  0.04197178,\n",
       "        -0.41803981,  0.90163913, -0.29524624,  1.40984195, -0.89249331,\n",
       "        -0.66169316, -0.70710678, -0.46472917],\n",
       "       [ 1.69716475,  0.69617712,  0.98584243,  1.65076095,  0.41677512,\n",
       "        -0.41803981,  0.90163913, -1.63600732,  1.40984195,  1.54183161,\n",
       "        -0.66169316,  0.26516504,  1.14190596],\n",
       "       [-1.10366633,  0.69617712,  0.03154696, -0.22282732,  1.14764164,\n",
       "        -0.41803981, -0.97936664,  0.87251341, -0.70929937, -0.89249331,\n",
       "         0.95577901, -0.70710678, -0.46472917],\n",
       "       [ 0.12869935,  0.69617712, -0.92274852, -0.39847623,  0.04197178,\n",
       "         2.39211668, -0.97936664, -0.25199588,  1.40984195,  0.11481356,\n",
       "        -0.66169316,  0.26516504, -0.46472917],\n",
       "       [ 0.8008988 , -1.43641607, -0.92274852,  0.47976828,  0.39803495,\n",
       "        -0.41803981, -0.97936664,  0.44000983, -0.70929937,  2.12942728,\n",
       "        -2.27916533,  1.23743687, -0.46472917],\n",
       "       [ 0.24073259,  0.69617712, -0.92274852,  0.47976828, -1.02621775,\n",
       "        -0.41803981,  0.90163913, -0.07899445, -0.70929937, -0.55672435,\n",
       "        -0.66169316, -0.70710678, -2.0713643 ],\n",
       "       [ 0.24073259, -1.43641607, -0.92274852, -0.22282732,  1.0539408 ,\n",
       "        -0.41803981, -0.97936664,  0.39675948, -0.70929937, -0.89249331,\n",
       "         0.95577901,  0.26516504, -0.46472917],\n",
       "       [-0.31943363,  0.69617712,  0.98584243,  0.36266901, -0.44527257,\n",
       "        -0.41803981,  0.90163913,  0.82926305, -0.70929937, -0.89249331,\n",
       "         0.95577901,  3.18198052, -0.46472917],\n",
       "       [-0.87959984,  0.69617712, -0.92274852, -1.27672073,  0.52921612,\n",
       "        -0.41803981, -0.97936664, -1.37650518,  1.40984195, -0.05307092,\n",
       "        -0.66169316,  0.26516504, -0.46472917],\n",
       "       [-0.43146687,  0.69617712,  1.94013791, -0.39847623, -0.63267424,\n",
       "        -0.41803981, -0.97936664, -1.07375268,  1.40984195,  0.28269804,\n",
       "         0.95577901,  0.26516504, -0.46472917],\n",
       "       [ 1.69716475,  0.69617712,  0.03154696,  1.41656242, -0.03298889,\n",
       "        -0.41803981, -0.97936664, -0.29524624, -0.70929937, -0.89249331,\n",
       "         0.95577901, -0.70710678, -0.46472917],\n",
       "       [-1.5517993 ,  0.69617712,  0.98584243, -0.10572806, -0.61393407,\n",
       "        -0.41803981, -0.97936664,  0.78601269, -0.70929937,  0.78635147,\n",
       "        -0.66169316, -0.70710678, -0.46472917],\n",
       "       [-0.54350011,  0.69617712,  0.98584243,  0.47976828, -0.25787089,\n",
       "        -0.41803981,  0.90163913,  0.56976091, -0.70929937, -0.38883987,\n",
       "        -0.66169316,  0.26516504,  1.14190596],\n",
       "       [ 0.12869935, -1.43641607, -0.92274852,  0.12847048,  3.04039852,\n",
       "        -0.41803981, -0.97936664,  0.00750626,  1.40984195,  0.70240923,\n",
       "        -0.66169316,  1.23743687,  1.14190596],\n",
       "       [-1.21569957,  0.69617712,  0.03154696, -0.69122439,  0.30433412,\n",
       "        -0.41803981,  0.90163913,  1.00226448, -0.70929937, -0.89249331,\n",
       "         0.95577901, -0.70710678,  1.14190596],\n",
       "       [-0.31943363,  0.69617712,  0.03154696, -0.69122439,  1.46622448,\n",
       "        -0.41803981,  0.90163913,  0.95901412, -0.70929937, -0.72460883,\n",
       "         0.95577901, -0.70710678, -0.46472917],\n",
       "       [ 2.14529772, -1.43641607,  0.03154696, -0.69122439,  0.41677512,\n",
       "        -0.41803981, -0.97936664, -1.24675411,  1.40984195, -0.72460883,\n",
       "         0.95577901,  0.26516504, -0.46472917],\n",
       "       [-1.5517993 , -1.43641607,  0.98584243, -1.15962146,  0.39803495,\n",
       "        -0.41803981, -0.97936664,  0.95901412,  1.40984195, -0.89249331,\n",
       "         0.95577901, -0.70710678, -0.46472917],\n",
       "       [-1.5517993 ,  0.69617712,  0.03154696,  0.18702011, -0.82007591,\n",
       "        -0.41803981,  0.90163913, -0.77100017, -0.70929937, -0.89249331,\n",
       "        -0.66169316, -0.70710678, -2.0713643 ],\n",
       "       [-1.77586579, -1.43641607,  0.98584243, -2.21351487, -0.89503658,\n",
       "        -0.41803981,  0.90163913,  1.26176663, -0.70929937, -0.89249331,\n",
       "         0.95577901, -0.70710678, -0.46472917],\n",
       "       [-2.22399876,  0.69617712, -0.92274852, -0.69122439, -0.91377674,\n",
       "        -0.41803981,  0.90163913, -0.85750089,  1.40984195,  0.45058251,\n",
       "        -0.66169316, -0.70710678,  1.14190596],\n",
       "       [-1.21569957, -1.43641607,  0.98584243, -0.80832366, -0.08920939,\n",
       "        -0.41803981,  0.90163913, -0.0357441 , -0.70929937, -0.64066659,\n",
       "        -0.66169316,  0.26516504, -0.46472917],\n",
       "       [ 0.24073259, -1.43641607,  0.03154696, -0.10572806, -0.20165039,\n",
       "        -0.41803981, -0.97936664,  1.04551484, -0.70929937, -0.89249331,\n",
       "        -0.66169316,  0.26516504, -0.46472917],\n",
       "       [ 0.46479907,  0.69617712,  0.98584243,  1.06526461, -0.6514144 ,\n",
       "         2.39211668,  0.90163913,  0.31025876, -0.70929937,  0.45058251,\n",
       "         0.95577901, -0.70710678, -0.46472917],\n",
       "       [-0.54350011, -1.43641607,  0.03154696, -0.69122439, -0.05172906,\n",
       "        -0.41803981,  0.90163913,  0.52651055, -0.70929937,  0.03087132,\n",
       "         0.95577901, -0.70710678, -0.46472917],\n",
       "       [ 0.35276583, -1.43641607, -0.92274852, -1.86221707,  0.02323161,\n",
       "        -0.41803981, -0.97936664, -1.20350375, -0.70929937, -0.05307092,\n",
       "        -0.66169316, -0.70710678, -0.46472917]])"
      ]
     },
     "execution_count": 7,
     "metadata": {},
     "output_type": "execute_result"
    }
   ],
   "source": [
    "from sklearn.preprocessing import StandardScaler\n",
    "sc = StandardScaler().fit(X_train)\n",
    "X_train_std = sc.transform(X_train)\n",
    "X_test_std = sc.transform(X_test)\n",
    "X_test_std"
   ]
  },
  {
   "cell_type": "code",
   "execution_count": 8,
   "metadata": {},
   "outputs": [
    {
     "data": {
      "text/plain": [
       "SVC(C=0.1, kernel='linear')"
      ]
     },
     "execution_count": 8,
     "metadata": {},
     "output_type": "execute_result"
    }
   ],
   "source": [
    "from sklearn import svm\n",
    "clf_svm_1 = svm.SVC(kernel='linear', C=0.1)\n",
    "clf_svm_1.fit(X_train_std, y_train)\n"
   ]
  },
  {
   "cell_type": "code",
   "execution_count": 9,
   "metadata": {},
   "outputs": [],
   "source": [
    "y_train_pred = clf_svm_1.predict(X_train_std)\n",
    "y_test_pred = clf_svm_1.predict(X_test_std)"
   ]
  },
  {
   "cell_type": "code",
   "execution_count": 10,
   "metadata": {},
   "outputs": [
    {
     "data": {
      "text/plain": [
       "array([0, 1, 1, 0, 0, 1, 0, 0, 0, 0, 1, 1, 0, 1, 1, 1, 0, 1, 0, 1, 1, 0,\n",
       "       0, 0, 1, 1, 0, 1, 1, 1, 1, 0, 1, 1, 1, 1, 0, 1, 0, 0, 1, 1, 0, 0,\n",
       "       0, 1, 1, 1, 0, 1, 1, 1, 1, 1, 1, 0, 1, 1, 1, 1, 1], dtype=int64)"
      ]
     },
     "execution_count": 10,
     "metadata": {},
     "output_type": "execute_result"
    }
   ],
   "source": [
    "y_test_pred"
   ]
  },
  {
   "cell_type": "markdown",
   "metadata": {},
   "source": [
    "# Model Accuracy"
   ]
  },
  {
   "cell_type": "code",
   "execution_count": 11,
   "metadata": {},
   "outputs": [],
   "source": [
    "from sklearn.metrics import accuracy_score, confusion_matrix"
   ]
  },
  {
   "cell_type": "code",
   "execution_count": 12,
   "metadata": {},
   "outputs": [
    {
     "data": {
      "text/plain": [
       "array([[19,  8],\n",
       "       [ 4, 30]], dtype=int64)"
      ]
     },
     "execution_count": 12,
     "metadata": {},
     "output_type": "execute_result"
    }
   ],
   "source": [
    "confusion_matrix(y_test, y_test_pred)"
   ]
  },
  {
   "cell_type": "code",
   "execution_count": 13,
   "metadata": {},
   "outputs": [
    {
     "data": {
      "text/plain": [
       "0.8032786885245902"
      ]
     },
     "execution_count": 13,
     "metadata": {},
     "output_type": "execute_result"
    }
   ],
   "source": [
    "accuracy_score(y_test,y_test_pred)"
   ]
  },
  {
   "cell_type": "code",
   "execution_count": 14,
   "metadata": {},
   "outputs": [
    {
     "data": {
      "text/plain": [
       "array([52, 54])"
      ]
     },
     "execution_count": 14,
     "metadata": {},
     "output_type": "execute_result"
    }
   ],
   "source": [
    "clf_svm_1.n_support_"
   ]
  },
  {
   "cell_type": "markdown",
   "metadata": {},
   "source": [
    "# Task 2, Grid Search. \n",
    "#### - With GridSearch we dont need to manually check every parameter which gives us the best accuracy"
   ]
  },
  {
   "cell_type": "code",
   "execution_count": 15,
   "metadata": {},
   "outputs": [],
   "source": [
    "from sklearn.model_selection import GridSearchCV\n",
    "params = {'C':(0.1,1,100)}\n",
    "clf_svm_1=svm.SVC(kernel='linear')\n",
    "svm_grid_lin=GridSearchCV(clf_svm_1, params, n_jobs=-1,\n",
    "                         cv=10, verbose=1, scoring='accuracy')"
   ]
  },
  {
   "cell_type": "code",
   "execution_count": 16,
   "metadata": {},
   "outputs": [
    {
     "name": "stdout",
     "output_type": "stream",
     "text": [
      "Fitting 10 folds for each of 3 candidates, totalling 30 fits\n"
     ]
    },
    {
     "name": "stderr",
     "output_type": "stream",
     "text": [
      "[Parallel(n_jobs=-1)]: Using backend LokyBackend with 4 concurrent workers.\n",
      "[Parallel(n_jobs=-1)]: Done  30 out of  30 | elapsed:    4.1s finished\n"
     ]
    },
    {
     "data": {
      "text/plain": [
       "0.8032786885245902"
      ]
     },
     "execution_count": 16,
     "metadata": {},
     "output_type": "execute_result"
    }
   ],
   "source": [
    "svm_grid_lin.fit(X_train_std, y_train)\n",
    "svm_grid_lin.best_params_\n",
    "linsvm_clf = svm_grid_lin.best_estimator_\n",
    "accuracy_score(y_test, linsvm_clf.predict(X_test_std))"
   ]
  },
  {
   "cell_type": "code",
   "execution_count": 17,
   "metadata": {},
   "outputs": [
    {
     "data": {
      "text/plain": [
       "{'C': 0.1}"
      ]
     },
     "execution_count": 17,
     "metadata": {},
     "output_type": "execute_result"
    }
   ],
   "source": [
    "svm_grid_lin.best_params_"
   ]
  },
  {
   "cell_type": "markdown",
   "metadata": {},
   "source": [
    "# Task 3 \n",
    "### - We can see that the model we have went with gives us an accuracy of 80%, which is pretty good. We have done Grid Search, to find the best parameters within 0.1, 1 and 100. What we could do to find further improvements is to try more parameters. Considering the fact that our accuracy is at 80%, we can look to further improve but dont need. We could add more data or do better feature selection. "
   ]
  },
  {
   "cell_type": "markdown",
   "metadata": {},
   "source": [
    "# Task 4 \n",
    "### - SVM classifier will fail  when implementing the wrong kernel function, for example introducing a linear kernel to data that is not linear sepearable. \n",
    "### - SVM classifier will fail if you do not put in the right key parameters, this can be mitigated with a GridSearch, which will showcase the best parameters out of a set of selected parameters. It can also be mitigated with MKL. \n",
    "### - SVM handles small to mid size datasets pretty well, but handling bigger datasets can be a issue. \n",
    "### In our case, SWM works good on the linear kernel which was randomly implemented, we do not have to big of a dataset to work with and we have also run GridSearch/Hyper tuning to find the best of the parameters. "
   ]
  },
  {
   "cell_type": "markdown",
   "metadata": {},
   "source": [
    "# Task 5\n",
    "### - We can se that after running the Polynomial kernel and the RBF kernel we have significantly worse score than with a linear kernel. One of the key reasononings we have such a big difference in the accuracy scores could be a indication that we are dealing with a a dataset that has seperable datapoints. We achieved a score of 80 % compared to 55 and 57 % using the linear kernel. \n",
    "### - RBF is genereally outperforming the linear kernel, it may be overfitting or not correct cross validation within a grid search. "
   ]
  },
  {
   "cell_type": "markdown",
   "metadata": {},
   "source": [
    "# Cross Validation for poly and rbf "
   ]
  },
  {
   "cell_type": "code",
   "execution_count": 48,
   "metadata": {},
   "outputs": [],
   "source": [
    "from sklearn.model_selection import GridSearchCV\n",
    "params = {'C':(0.1,1,10,25,50,100)}\n",
    "clf_svm_p3=svm.SVC(kernel='poly')\n",
    "svm_grid_lin=GridSearchCV(clf_svm_p3, params, n_jobs=-1,\n",
    "                         cv=10, verbose=1, scoring='accuracy')"
   ]
  },
  {
   "cell_type": "code",
   "execution_count": 49,
   "metadata": {},
   "outputs": [
    {
     "name": "stdout",
     "output_type": "stream",
     "text": [
      "Fitting 10 folds for each of 6 candidates, totalling 60 fits\n"
     ]
    },
    {
     "name": "stderr",
     "output_type": "stream",
     "text": [
      "[Parallel(n_jobs=-1)]: Using backend LokyBackend with 4 concurrent workers.\n",
      "[Parallel(n_jobs=-1)]: Done  53 out of  60 | elapsed:    0.2s remaining:    0.0s\n",
      "[Parallel(n_jobs=-1)]: Done  60 out of  60 | elapsed:    0.2s finished\n"
     ]
    }
   ],
   "source": [
    "svm_grid_lin.fit(X_train_std, y_train)\n",
    "svm_grid_lin.best_params_\n",
    "linsvm_clf = svm_grid_lin.best_estimator_"
   ]
  },
  {
   "cell_type": "code",
   "execution_count": 50,
   "metadata": {},
   "outputs": [
    {
     "data": {
      "text/plain": [
       "{'C': 1}"
      ]
     },
     "execution_count": 50,
     "metadata": {},
     "output_type": "execute_result"
    }
   ],
   "source": [
    "svm_grid_lin.best_params_"
   ]
  },
  {
   "cell_type": "code",
   "execution_count": 51,
   "metadata": {},
   "outputs": [],
   "source": [
    "from sklearn.model_selection import GridSearchCV\n",
    "params = {'C':(0.1, 0.2, 1,10,25,50,100)}\n",
    "clf_svm_r=svm.SVC(kernel='rbf')\n",
    "svm_grid_lin=GridSearchCV(clf_svm_r, params, n_jobs=-1,\n",
    "                         cv=10, verbose=1, scoring='accuracy')"
   ]
  },
  {
   "cell_type": "code",
   "execution_count": 52,
   "metadata": {},
   "outputs": [
    {
     "name": "stdout",
     "output_type": "stream",
     "text": [
      "Fitting 10 folds for each of 7 candidates, totalling 70 fits\n"
     ]
    },
    {
     "name": "stderr",
     "output_type": "stream",
     "text": [
      "[Parallel(n_jobs=-1)]: Using backend LokyBackend with 4 concurrent workers.\n",
      "[Parallel(n_jobs=-1)]: Done  63 out of  70 | elapsed:    0.1s remaining:    0.0s\n",
      "[Parallel(n_jobs=-1)]: Done  70 out of  70 | elapsed:    0.2s finished\n"
     ]
    }
   ],
   "source": [
    "svm_grid_lin.fit(X_train_std, y_train)\n",
    "svm_grid_lin.best_params_\n",
    "linsvm_clf = svm_grid_lin.best_estimator_"
   ]
  },
  {
   "cell_type": "code",
   "execution_count": 53,
   "metadata": {},
   "outputs": [
    {
     "data": {
      "text/plain": [
       "{'C': 0.1}"
      ]
     },
     "execution_count": 53,
     "metadata": {},
     "output_type": "execute_result"
    }
   ],
   "source": [
    "svm_grid_lin.best_params_"
   ]
  },
  {
   "cell_type": "markdown",
   "metadata": {},
   "source": [
    "# Polynomial kernel"
   ]
  },
  {
   "cell_type": "code",
   "execution_count": 37,
   "metadata": {},
   "outputs": [
    {
     "data": {
      "text/plain": [
       "SVC(C=1, degree=2, kernel='poly')"
      ]
     },
     "execution_count": 37,
     "metadata": {},
     "output_type": "execute_result"
    }
   ],
   "source": [
    "clf_svm_p3 = svm.SVC(kernel='poly', degree= 2, C= 1)\n",
    "clf_svm_p3.fit(X_train_std, y_train)"
   ]
  },
  {
   "cell_type": "code",
   "execution_count": 38,
   "metadata": {},
   "outputs": [],
   "source": [
    "y_train_pred = clf_svm_p3.predict(X_train_std)\n",
    "y_test_pred = clf_svm_p3.predict(X_test_std)"
   ]
  },
  {
   "cell_type": "code",
   "execution_count": 39,
   "metadata": {},
   "outputs": [
    {
     "data": {
      "text/plain": [
       "0.6885245901639344"
      ]
     },
     "execution_count": 39,
     "metadata": {},
     "output_type": "execute_result"
    }
   ],
   "source": [
    "accuracy_score(y_test,y_test_pred)"
   ]
  },
  {
   "cell_type": "code",
   "execution_count": 40,
   "metadata": {},
   "outputs": [
    {
     "data": {
      "text/plain": [
       "array([92, 97])"
      ]
     },
     "execution_count": 40,
     "metadata": {},
     "output_type": "execute_result"
    }
   ],
   "source": [
    "clf_svm_p3.n_support_"
   ]
  },
  {
   "cell_type": "markdown",
   "metadata": {},
   "source": [
    "# RBF kernel"
   ]
  },
  {
   "cell_type": "code",
   "execution_count": 54,
   "metadata": {},
   "outputs": [
    {
     "data": {
      "text/plain": [
       "SVC(C=0.1, gamma=0.5)"
      ]
     },
     "execution_count": 54,
     "metadata": {},
     "output_type": "execute_result"
    }
   ],
   "source": [
    "clf_svm_r = svm.SVC(kernel='rbf', gamma=0.5, C=0.1)\n",
    "clf_svm_r.fit(X_train_std, y_train)"
   ]
  },
  {
   "cell_type": "code",
   "execution_count": 55,
   "metadata": {},
   "outputs": [],
   "source": [
    "y_train_pred = clf_svm_r.predict(X_train_std)\n",
    "y_test_pred = clf_svm_r.predict(X_test_std)"
   ]
  },
  {
   "cell_type": "code",
   "execution_count": 56,
   "metadata": {},
   "outputs": [
    {
     "data": {
      "text/plain": [
       "0.5573770491803278"
      ]
     },
     "execution_count": 56,
     "metadata": {},
     "output_type": "execute_result"
    }
   ],
   "source": [
    "accuracy_score(y_test, y_test_pred)"
   ]
  },
  {
   "cell_type": "code",
   "execution_count": 57,
   "metadata": {},
   "outputs": [
    {
     "data": {
      "text/plain": [
       "array([111, 125])"
      ]
     },
     "execution_count": 57,
     "metadata": {},
     "output_type": "execute_result"
    }
   ],
   "source": [
    "clf_svm_r.n_support_"
   ]
  },
  {
   "cell_type": "markdown",
   "metadata": {},
   "source": [
    "# Sources:\n",
    "##### https://www.kaggle.com/ronitf/heart-disease-uci\n",
    "##### PGR210-1 21H Lecture 5 PDF. "
   ]
  },
  {
   "cell_type": "code",
   "execution_count": null,
   "metadata": {},
   "outputs": [],
   "source": []
  }
 ],
 "metadata": {
  "kernelspec": {
   "display_name": "Python 3",
   "language": "python",
   "name": "python3"
  },
  "language_info": {
   "codemirror_mode": {
    "name": "ipython",
    "version": 3
   },
   "file_extension": ".py",
   "mimetype": "text/x-python",
   "name": "python",
   "nbconvert_exporter": "python",
   "pygments_lexer": "ipython3",
   "version": "3.8.3"
  }
 },
 "nbformat": 4,
 "nbformat_minor": 4
}

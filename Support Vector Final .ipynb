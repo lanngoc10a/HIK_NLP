{
 "cells": [
  {
   "cell_type": "markdown",
   "metadata": {},
   "source": [
    "# Task 1 "
   ]
  },
  {
   "cell_type": "code",
   "execution_count": 1,
   "metadata": {},
   "outputs": [],
   "source": [
    "import pandas as pd\n",
    "import numpy as np \n",
    "import matplotlib.pyplot as plt "
   ]
  },
  {
   "cell_type": "code",
   "execution_count": 99,
   "metadata": {},
   "outputs": [],
   "source": [
    "df = pd.read_csv(r'C:\\Users\\sebas\\Desktop\\heart.csv')"
   ]
  },
  {
   "cell_type": "code",
   "execution_count": 100,
   "metadata": {
    "scrolled": true
   },
   "outputs": [
    {
     "name": "stdout",
     "output_type": "stream",
     "text": [
      "<class 'pandas.core.frame.DataFrame'>\n",
      "RangeIndex: 303 entries, 0 to 302\n",
      "Data columns (total 14 columns):\n",
      " #   Column    Non-Null Count  Dtype  \n",
      "---  ------    --------------  -----  \n",
      " 0   age       303 non-null    int64  \n",
      " 1   sex       303 non-null    int64  \n",
      " 2   cp        303 non-null    int64  \n",
      " 3   trestbps  303 non-null    int64  \n",
      " 4   chol      303 non-null    int64  \n",
      " 5   fbs       303 non-null    int64  \n",
      " 6   restecg   303 non-null    int64  \n",
      " 7   thalach   303 non-null    int64  \n",
      " 8   exang     303 non-null    int64  \n",
      " 9   oldpeak   303 non-null    float64\n",
      " 10  slope     303 non-null    int64  \n",
      " 11  ca        303 non-null    int64  \n",
      " 12  thal      303 non-null    int64  \n",
      " 13  target    303 non-null    int64  \n",
      "dtypes: float64(1), int64(13)\n",
      "memory usage: 33.3 KB\n"
     ]
    }
   ],
   "source": [
    "df.info()"
   ]
  },
  {
   "cell_type": "code",
   "execution_count": 101,
   "metadata": {},
   "outputs": [
    {
     "data": {
      "text/html": [
       "<div>\n",
       "<style scoped>\n",
       "    .dataframe tbody tr th:only-of-type {\n",
       "        vertical-align: middle;\n",
       "    }\n",
       "\n",
       "    .dataframe tbody tr th {\n",
       "        vertical-align: top;\n",
       "    }\n",
       "\n",
       "    .dataframe thead th {\n",
       "        text-align: right;\n",
       "    }\n",
       "</style>\n",
       "<table border=\"1\" class=\"dataframe\">\n",
       "  <thead>\n",
       "    <tr style=\"text-align: right;\">\n",
       "      <th></th>\n",
       "      <th>age</th>\n",
       "      <th>sex</th>\n",
       "      <th>cp</th>\n",
       "      <th>trestbps</th>\n",
       "      <th>chol</th>\n",
       "      <th>fbs</th>\n",
       "      <th>restecg</th>\n",
       "      <th>thalach</th>\n",
       "      <th>exang</th>\n",
       "      <th>oldpeak</th>\n",
       "      <th>slope</th>\n",
       "      <th>ca</th>\n",
       "      <th>thal</th>\n",
       "      <th>target</th>\n",
       "    </tr>\n",
       "  </thead>\n",
       "  <tbody>\n",
       "    <tr>\n",
       "      <th>0</th>\n",
       "      <td>63</td>\n",
       "      <td>1</td>\n",
       "      <td>3</td>\n",
       "      <td>145</td>\n",
       "      <td>233</td>\n",
       "      <td>1</td>\n",
       "      <td>0</td>\n",
       "      <td>150</td>\n",
       "      <td>0</td>\n",
       "      <td>2.3</td>\n",
       "      <td>0</td>\n",
       "      <td>0</td>\n",
       "      <td>1</td>\n",
       "      <td>1</td>\n",
       "    </tr>\n",
       "    <tr>\n",
       "      <th>1</th>\n",
       "      <td>37</td>\n",
       "      <td>1</td>\n",
       "      <td>2</td>\n",
       "      <td>130</td>\n",
       "      <td>250</td>\n",
       "      <td>0</td>\n",
       "      <td>1</td>\n",
       "      <td>187</td>\n",
       "      <td>0</td>\n",
       "      <td>3.5</td>\n",
       "      <td>0</td>\n",
       "      <td>0</td>\n",
       "      <td>2</td>\n",
       "      <td>1</td>\n",
       "    </tr>\n",
       "    <tr>\n",
       "      <th>2</th>\n",
       "      <td>41</td>\n",
       "      <td>0</td>\n",
       "      <td>1</td>\n",
       "      <td>130</td>\n",
       "      <td>204</td>\n",
       "      <td>0</td>\n",
       "      <td>0</td>\n",
       "      <td>172</td>\n",
       "      <td>0</td>\n",
       "      <td>1.4</td>\n",
       "      <td>2</td>\n",
       "      <td>0</td>\n",
       "      <td>2</td>\n",
       "      <td>1</td>\n",
       "    </tr>\n",
       "    <tr>\n",
       "      <th>3</th>\n",
       "      <td>56</td>\n",
       "      <td>1</td>\n",
       "      <td>1</td>\n",
       "      <td>120</td>\n",
       "      <td>236</td>\n",
       "      <td>0</td>\n",
       "      <td>1</td>\n",
       "      <td>178</td>\n",
       "      <td>0</td>\n",
       "      <td>0.8</td>\n",
       "      <td>2</td>\n",
       "      <td>0</td>\n",
       "      <td>2</td>\n",
       "      <td>1</td>\n",
       "    </tr>\n",
       "    <tr>\n",
       "      <th>4</th>\n",
       "      <td>57</td>\n",
       "      <td>0</td>\n",
       "      <td>0</td>\n",
       "      <td>120</td>\n",
       "      <td>354</td>\n",
       "      <td>0</td>\n",
       "      <td>1</td>\n",
       "      <td>163</td>\n",
       "      <td>1</td>\n",
       "      <td>0.6</td>\n",
       "      <td>2</td>\n",
       "      <td>0</td>\n",
       "      <td>2</td>\n",
       "      <td>1</td>\n",
       "    </tr>\n",
       "  </tbody>\n",
       "</table>\n",
       "</div>"
      ],
      "text/plain": [
       "   age  sex  cp  trestbps  chol  fbs  restecg  thalach  exang  oldpeak  slope  \\\n",
       "0   63    1   3       145   233    1        0      150      0      2.3      0   \n",
       "1   37    1   2       130   250    0        1      187      0      3.5      0   \n",
       "2   41    0   1       130   204    0        0      172      0      1.4      2   \n",
       "3   56    1   1       120   236    0        1      178      0      0.8      2   \n",
       "4   57    0   0       120   354    0        1      163      1      0.6      2   \n",
       "\n",
       "   ca  thal  target  \n",
       "0   0     1       1  \n",
       "1   0     2       1  \n",
       "2   0     2       1  \n",
       "3   0     2       1  \n",
       "4   0     2       1  "
      ]
     },
     "execution_count": 101,
     "metadata": {},
     "output_type": "execute_result"
    }
   ],
   "source": [
    "df.head()"
   ]
  },
  {
   "cell_type": "code",
   "execution_count": 102,
   "metadata": {},
   "outputs": [
    {
     "data": {
      "text/plain": [
       "pandas.core.series.Series"
      ]
     },
     "execution_count": 102,
     "metadata": {},
     "output_type": "execute_result"
    }
   ],
   "source": [
    "X = df.loc[:,df.columns!=\"target\"]\n",
    "type(X)\n",
    "\n",
    "y = df[\"target\"]\n",
    "type(y)"
   ]
  },
  {
   "cell_type": "code",
   "execution_count": 103,
   "metadata": {},
   "outputs": [],
   "source": [
    "from sklearn.model_selection import train_test_split\n",
    "X_train, X_test, y_train, y_test = train_test_split(X, y, test_size=0.2,random_state=42)"
   ]
  },
  {
   "cell_type": "code",
   "execution_count": 104,
   "metadata": {},
   "outputs": [
    {
     "data": {
      "text/plain": [
       "array([[ 2.76218225e-01,  7.22504380e-01, -9.71890936e-01,\n",
       "         1.16949120e+00,  5.53408401e-01, -3.83300706e-01,\n",
       "        -1.04610909e+00, -1.70875171e+00,  1.47790748e+00,\n",
       "        -3.75556294e-01, -6.94988026e-01,  3.21860343e-01,\n",
       "        -2.19657581e+00],\n",
       "       [ 4.93953764e-01,  7.22504380e-01,  1.96807914e+00,\n",
       "         2.36038903e+00,  7.81171723e-01, -3.83300706e-01,\n",
       "        -1.04610909e+00,  3.98288831e-01, -6.76632341e-01,\n",
       "        -7.39094787e-01, -6.94988026e-01, -6.89700735e-01,\n",
       "         1.17848036e+00],\n",
       "       [ 2.76218225e-01,  7.22504380e-01,  9.88089118e-01,\n",
       "         1.16949120e+00, -2.29363312e+00,  2.60891771e+00,\n",
       "         8.43132697e-01,  1.02591793e+00, -6.76632341e-01,\n",
       "        -7.39094787e-01,  9.53905134e-01,  3.21860343e-01,\n",
       "         1.17848036e+00],\n",
       "       [ 1.67350456e-01, -1.38407465e+00, -9.71890936e-01,\n",
       "         2.16772932e-01,  3.07778522e+00, -3.83300706e-01,\n",
       "        -1.04610909e+00, -5.18701733e-03,  1.47790748e+00,\n",
       "         8.05943807e-01, -6.94988026e-01,  1.33342142e+00,\n",
       "         1.17848036e+00],\n",
       "       [ 1.80036700e+00, -1.38407465e+00,  9.88089118e-01,\n",
       "        -1.21230447e+00,  3.44625356e-01,  2.60891771e+00,\n",
       "        -1.04610909e+00, -9.01800013e-01, -6.76632341e-01,\n",
       "        -9.20864033e-01,  9.53905134e-01,  3.21860343e-01,\n",
       "        -5.09047728e-01],\n",
       "       [ 2.76218225e-01,  7.22504380e-01,  9.88089118e-01,\n",
       "         1.16949120e+00, -1.49646149e+00, -3.83300706e-01,\n",
       "         8.43132697e-01,  1.07074858e+00, -6.76632341e-01,\n",
       "         5.33289937e-01,  9.53905134e-01, -6.89700735e-01,\n",
       "        -5.09047728e-01],\n",
       "       [-9.21327240e-01, -1.38407465e+00, -9.71890936e-01,\n",
       "         4.54952499e-01, -7.29407332e-02, -3.83300706e-01,\n",
       "        -1.04610909e+00,  8.44742822e-02,  1.47790748e+00,\n",
       "        -9.20864033e-01, -6.94988026e-01, -6.89700735e-01,\n",
       "        -5.09047728e-01],\n",
       "       [ 1.67350456e-01, -1.38407465e+00, -9.71890936e-01,\n",
       "         4.14673578e+00,  7.81171723e-01,  2.60891771e+00,\n",
       "        -1.04610909e+00, -7.67308064e-01,  1.47790748e+00,\n",
       "         2.71452089e+00, -2.34388119e+00,  1.33342142e+00,\n",
       "         1.17848036e+00],\n",
       "       [-5.03850834e-02,  7.22504380e-01, -9.71890936e-01,\n",
       "        -4.97765768e-01,  7.43211169e-01, -3.83300706e-01,\n",
       "        -1.04610909e+00, -1.52942911e+00,  1.47790748e+00,\n",
       "         1.98744391e+00, -6.94988026e-01,  1.33342142e+00,\n",
       "        -5.09047728e-01],\n",
       "       [-5.03850834e-02,  7.22504380e-01,  9.88089118e-01,\n",
       "        -3.19131093e-01,  4.96467571e-01, -3.83300706e-01,\n",
       "        -1.04610909e+00,  8.44742822e-02, -6.76632341e-01,\n",
       "        -4.66440917e-01, -2.34388119e+00,  3.21860343e-01,\n",
       "        -5.09047728e-01],\n",
       "       [ 2.76218225e-01,  7.22504380e-01, -9.71890936e-01,\n",
       "         5.74042282e-01, -1.04093485e+00, -3.83300706e-01,\n",
       "         8.43132697e-01, -9.48483169e-02, -6.76632341e-01,\n",
       "        -5.57325540e-01, -6.94988026e-01, -6.89700735e-01,\n",
       "        -2.19657581e+00],\n",
       "       [ 4.93953764e-01,  7.22504380e-01,  1.96807914e+00,\n",
       "         2.83674817e+00,  4.39526740e-01, -3.83300706e-01,\n",
       "        -1.04610909e+00, -2.29340266e-01, -6.76632341e-01,\n",
       "         2.89629014e+00, -2.34388119e+00, -6.89700735e-01,\n",
       "         1.17848036e+00],\n",
       "       [-2.68120623e-01,  7.22504380e-01,  8.09909113e-03,\n",
       "        -6.16855552e-01,  1.48344196e+00, -3.83300706e-01,\n",
       "         8.43132697e-01,  9.81087278e-01, -6.76632341e-01,\n",
       "        -7.39094787e-01,  9.53905134e-01, -6.89700735e-01,\n",
       "        -5.09047728e-01],\n",
       "       [-1.57453386e+00,  7.22504380e-01, -9.71890936e-01,\n",
       "        -1.21230447e+00, -1.51544177e+00, -3.83300706e-01,\n",
       "        -1.04610909e+00, -1.61909041e+00,  1.47790748e+00,\n",
       "         8.96828430e-01, -6.94988026e-01, -6.89700735e-01,\n",
       "         1.17848036e+00],\n",
       "       [-9.21327240e-01, -1.38407465e+00,  8.09909113e-03,\n",
       "        -1.51002893e+00, -8.13171528e-01, -3.83300706e-01,\n",
       "         8.43132697e-01,  9.81087278e-01, -6.76632341e-01,\n",
       "        -9.20864033e-01,  9.53905134e-01, -6.89700735e-01,\n",
       "        -5.09047728e-01],\n",
       "       [-1.13906278e+00,  7.22504380e-01,  9.88089118e-01,\n",
       "         5.74042282e-01, -2.24782948e-01, -3.83300706e-01,\n",
       "        -1.04610909e+00,  1.33973248e+00, -6.76632341e-01,\n",
       "        -9.20864033e-01,  9.53905134e-01, -6.89700735e-01,\n",
       "        -5.09047728e-01],\n",
       "       [-2.22774047e+00, -1.38407465e+00,  8.09909113e-03,\n",
       "        -7.35945335e-01, -6.99289868e-01, -3.83300706e-01,\n",
       "         8.43132697e-01,  1.87770027e+00, -6.76632341e-01,\n",
       "        -2.84671671e-01,  9.53905134e-01, -6.89700735e-01,\n",
       "        -5.09047728e-01],\n",
       "       [-5.03850834e-02,  7.22504380e-01, -9.71890936e-01,\n",
       "        -6.16855552e-01, -1.11685596e+00, -3.83300706e-01,\n",
       "         8.43132697e-01, -1.66392106e+00, -6.76632341e-01,\n",
       "         3.51520691e-01, -6.94988026e-01,  3.21860343e-01,\n",
       "         1.17848036e+00],\n",
       "       [-9.21327240e-01,  7.22504380e-01, -9.71890936e-01,\n",
       "         5.74042282e-01,  1.21771809e+00, -3.83300706e-01,\n",
       "         8.43132697e-01, -1.35010651e+00,  1.47790748e+00,\n",
       "         7.15059184e-01, -6.94988026e-01,  1.33342142e+00,\n",
       "         1.17848036e+00],\n",
       "       [ 7.11689304e-01,  7.22504380e-01, -9.71890936e-01,\n",
       "         4.54952499e-01, -1.53442205e+00, -3.83300706e-01,\n",
       "        -1.04610909e+00, -1.12595326e+00,  1.47790748e+00,\n",
       "         2.35098240e+00, -6.94988026e-01,  3.21860343e-01,\n",
       "        -5.09047728e-01],\n",
       "       [ 1.03829261e+00,  7.22504380e-01,  1.96807914e+00,\n",
       "         2.36038903e+00, -3.76625162e-01, -3.83300706e-01,\n",
       "        -1.04610909e+00,  2.18966232e-01, -6.76632341e-01,\n",
       "        -3.75556294e-01, -6.94988026e-01, -6.89700735e-01,\n",
       "         1.17848036e+00],\n",
       "       [ 1.67350456e-01,  7.22504380e-01, -9.71890936e-01,\n",
       "        -2.14066346e-02,  6.86270339e-01,  2.60891771e+00,\n",
       "        -1.04610909e+00, -2.11222756e+00,  1.47790748e+00,\n",
       "         5.33289937e-01, -2.34388119e+00, -6.89700735e-01,\n",
       "         1.17848036e+00],\n",
       "       [ 1.36489592e+00,  7.22504380e-01, -9.71890936e-01,\n",
       "        -6.16855552e-01, -1.86822394e-01, -3.83300706e-01,\n",
       "         8.43132697e-01, -3.54680835e+00, -6.76632341e-01,\n",
       "        -1.20178014e-02, -6.94988026e-01, -6.89700735e-01,\n",
       "        -5.09047728e-01],\n",
       "       [ 1.80036700e+00, -1.38407465e+00,  8.09909113e-03,\n",
       "         1.76494012e+00,  1.04689560e+00, -3.83300706e-01,\n",
       "         8.43132697e-01,  5.32780780e-01, -6.76632341e-01,\n",
       "        -5.57325540e-01,  9.53905134e-01,  1.33342142e+00,\n",
       "        -5.09047728e-01],\n",
       "       [-1.13906278e+00, -1.38407465e+00,  9.88089118e-01,\n",
       "        -7.35945335e-01, -9.19210100e-02, -3.83300706e-01,\n",
       "         8.43132697e-01, -5.00176671e-02, -6.76632341e-01,\n",
       "        -6.48210163e-01, -6.94988026e-01,  3.21860343e-01,\n",
       "        -5.09047728e-01],\n",
       "       [-1.57453386e+00,  7.22504380e-01, -9.71890936e-01,\n",
       "         1.28858098e+00, -4.52546269e-01, -3.83300706e-01,\n",
       "         8.43132697e-01,  1.38456313e+00, -6.76632341e-01,\n",
       "        -9.20864033e-01,  9.53905134e-01, -6.89700735e-01,\n",
       "         1.17848036e+00],\n",
       "       [ 4.93953764e-01,  7.22504380e-01,  1.96807914e+00,\n",
       "         1.76494012e+00,  4.96467571e-01, -3.83300706e-01,\n",
       "        -1.04610909e+00, -1.12595326e+00, -6.76632341e-01,\n",
       "        -9.20864033e-01,  9.53905134e-01, -6.89700735e-01,\n",
       "        -5.09047728e-01],\n",
       "       [-3.76988392e-01,  7.22504380e-01, -9.71890936e-01,\n",
       "         5.74042282e-01,  2.68704249e-01, -3.83300706e-01,\n",
       "        -1.04610909e+00,  1.60871637e+00,  1.47790748e+00,\n",
       "        -9.20864033e-01,  9.53905134e-01, -6.89700735e-01,\n",
       "        -5.09047728e-01],\n",
       "       [ 2.76218225e-01,  7.22504380e-01, -9.71890936e-01,\n",
       "         2.06266458e+00,  8.00152000e-01,  2.60891771e+00,\n",
       "        -1.04610909e+00, -1.17078391e+00, -6.76632341e-01,\n",
       "        -1.20178014e-02, -6.94988026e-01,  2.34498250e+00,\n",
       "         1.17848036e+00],\n",
       "       [-4.85856162e-01, -1.38407465e+00, -9.71890936e-01,\n",
       "        -1.21230447e+00,  1.35842312e-01, -3.83300706e-01,\n",
       "        -1.04610909e+00,  3.98288831e-01, -6.76632341e-01,\n",
       "        -9.20864033e-01,  9.53905134e-01, -6.89700735e-01,\n",
       "        -5.09047728e-01],\n",
       "       [ 1.03829261e+00,  7.22504380e-01, -9.71890936e-01,\n",
       "        -1.40496418e-01,  3.06664803e-01, -3.83300706e-01,\n",
       "         8.43132697e-01, -2.02256626e+00,  1.47790748e+00,\n",
       "        -7.39094787e-01, -6.94988026e-01,  3.21860343e-01,\n",
       "         1.17848036e+00],\n",
       "       [ 7.11689304e-01,  7.22504380e-01, -9.71890936e-01,\n",
       "         5.74042282e-01, -7.56230698e-01, -3.83300706e-01,\n",
       "        -1.04610909e+00, -5.43154815e-01,  1.47790748e+00,\n",
       "         8.05943807e-01,  9.53905134e-01,  3.21860343e-01,\n",
       "         1.17848036e+00],\n",
       "       [ 8.20557073e-01,  7.22504380e-01, -9.71890936e-01,\n",
       "        -6.16855552e-01,  3.82585910e-01, -3.83300706e-01,\n",
       "         8.43132697e-01, -2.29155016e+00,  1.47790748e+00,\n",
       "         7.15059184e-01, -6.94988026e-01,  1.33342142e+00,\n",
       "         1.17848036e+00],\n",
       "       [-1.03019501e+00,  7.22504380e-01, -9.71890936e-01,\n",
       "        -1.56957382e+00, -7.37250421e-01, -3.83300706e-01,\n",
       "        -1.04610909e+00, -9.48483169e-02,  1.47790748e+00,\n",
       "         1.80567466e+00, -6.94988026e-01, -6.89700735e-01,\n",
       "        -5.09047728e-01],\n",
       "       [ 1.25602815e+00, -1.38407465e+00,  1.96807914e+00,\n",
       "         1.16949120e+00, -3.95605439e-01, -3.83300706e-01,\n",
       "         8.43132697e-01, -1.61909041e+00, -6.76632341e-01,\n",
       "         1.44213617e+00, -2.34388119e+00, -6.89700735e-01,\n",
       "        -5.09047728e-01],\n",
       "       [ 9.29424843e-01,  7.22504380e-01, -9.71890936e-01,\n",
       "        -2.14066346e-02,  1.35842312e-01, -3.83300706e-01,\n",
       "        -1.04610909e+00, -1.39678967e-01, -6.76632341e-01,\n",
       "         3.51520691e-01, -6.94988026e-01,  3.21860343e-01,\n",
       "         1.17848036e+00],\n",
       "       [-3.76988392e-01,  7.22504380e-01,  9.88089118e-01,\n",
       "        -3.19131093e-01, -3.49801796e-02,  2.60891771e+00,\n",
       "        -1.04610909e+00,  7.12103379e-01, -6.76632341e-01,\n",
       "         1.26036692e+00, -6.94988026e-01, -6.89700735e-01,\n",
       "        -5.09047728e-01],\n",
       "       [-7.03591701e-01,  7.22504380e-01,  9.88089118e-01,\n",
       "        -3.78675985e-01,  1.54822588e-01,  2.60891771e+00,\n",
       "         8.43132697e-01,  1.11557923e+00, -6.76632341e-01,\n",
       "        -9.20864033e-01,  9.53905134e-01,  1.33342142e+00,\n",
       "        -5.09047728e-01],\n",
       "       [-1.57453386e+00,  7.22504380e-01,  1.96807914e+00,\n",
       "         5.74042282e-01, -9.08072912e-01, -3.83300706e-01,\n",
       "         8.43132697e-01,  1.25007118e+00,  1.47790748e+00,\n",
       "         3.51520691e-01,  9.53905134e-01, -6.89700735e-01,\n",
       "         1.17848036e+00],\n",
       "       [-1.03019501e+00,  7.22504380e-01, -9.71890936e-01,\n",
       "        -9.14580010e-01,  2.49723972e-01, -3.83300706e-01,\n",
       "        -1.04610909e+00,  1.56388572e+00, -6.76632341e-01,\n",
       "        -9.20864033e-01,  9.53905134e-01, -6.89700735e-01,\n",
       "        -5.09047728e-01],\n",
       "       [-2.68120623e-01,  7.22504380e-01,  9.88089118e-01,\n",
       "         4.54952499e-01, -4.52546269e-01, -3.83300706e-01,\n",
       "         8.43132697e-01,  8.46595328e-01, -6.76632341e-01,\n",
       "        -9.20864033e-01,  9.53905134e-01,  3.35654358e+00,\n",
       "        -5.09047728e-01],\n",
       "       [ 4.93953764e-01,  7.22504380e-01,  8.09909113e-03,\n",
       "         5.74042282e-01, -4.90506823e-01, -3.83300706e-01,\n",
       "         8.43132697e-01,  6.22442080e-01,  1.47790748e+00,\n",
       "        -9.20864033e-01,  9.53905134e-01, -6.89700735e-01,\n",
       "        -5.09047728e-01],\n",
       "       [ 8.20557073e-01,  7.22504380e-01,  8.09909113e-03,\n",
       "        -1.40496418e-01, -7.37250421e-01,  2.60891771e+00,\n",
       "        -1.04610909e+00, -4.53493515e-01, -6.76632341e-01,\n",
       "        -9.20864033e-01,  9.53905134e-01, -6.89700735e-01,\n",
       "        -5.09047728e-01],\n",
       "       [-1.46566609e+00,  7.22504380e-01,  9.88089118e-01,\n",
       "        -2.14066346e-02, -6.23368760e-01, -3.83300706e-01,\n",
       "        -1.04610909e+00,  8.01764679e-01, -6.76632341e-01,\n",
       "         8.96828430e-01, -6.94988026e-01, -6.89700735e-01,\n",
       "        -5.09047728e-01],\n",
       "       [-1.13906278e+00,  7.22504380e-01,  8.09909113e-03,\n",
       "        -6.16855552e-01,  3.06664803e-01, -3.83300706e-01,\n",
       "         8.43132697e-01,  1.02591793e+00, -6.76632341e-01,\n",
       "        -9.20864033e-01,  9.53905134e-01, -6.89700735e-01,\n",
       "         1.17848036e+00],\n",
       "       [-1.24793055e+00,  7.22504380e-01, -9.71890936e-01,\n",
       "         9.76831488e-02,  2.98037404e-03,  2.60891771e+00,\n",
       "        -1.04610909e+00, -3.19001566e-01,  1.47790748e+00,\n",
       "        -8.29979410e-01, -6.94988026e-01,  3.35654358e+00,\n",
       "         1.17848036e+00],\n",
       "       [-2.68120623e-01,  7.22504380e-01, -9.71890936e-01,\n",
       "        -1.40496418e-01, -8.13171528e-01,  2.60891771e+00,\n",
       "         8.43132697e-01,  2.63796881e-01,  1.47790748e+00,\n",
       "        -1.20178014e-02, -6.94988026e-01, -6.89700735e-01,\n",
       "        -3.88410390e+00],\n",
       "       [-2.68120623e-01,  7.22504380e-01,  8.09909113e-03,\n",
       "        -1.40496418e-01, -7.94191252e-01,  2.60891771e+00,\n",
       "         8.43132697e-01,  1.51905508e+00, -6.76632341e-01,\n",
       "        -9.20864033e-01,  9.53905134e-01, -6.89700735e-01,\n",
       "        -5.09047728e-01],\n",
       "       [ 3.85085995e-01, -1.38407465e+00, -9.71890936e-01,\n",
       "         2.36038903e+00, -4.14585716e-01,  2.60891771e+00,\n",
       "        -1.04610909e+00, -1.84509616e-01,  1.47790748e+00,\n",
       "         1.62390542e+00, -6.94988026e-01,  1.33342142e+00,\n",
       "        -2.19657581e+00],\n",
       "       [ 5.84826861e-02,  7.22504380e-01, -9.71890936e-01,\n",
       "         1.76494012e+00,  8.00152000e-01, -3.83300706e-01,\n",
       "        -1.04610909e+00, -2.29340266e-01,  1.47790748e+00,\n",
       "        -1.93787048e-01, -6.94988026e-01,  3.21860343e-01,\n",
       "         1.17848036e+00],\n",
       "       [-7.03591701e-01,  7.22504380e-01, -9.71890936e-01,\n",
       "        -2.14066346e-02,  1.73802865e-01,  2.60891771e+00,\n",
       "        -1.04610909e+00, -5.18701733e-03,  1.47790748e+00,\n",
       "        -9.20864033e-01,  9.53905134e-01,  1.33342142e+00,\n",
       "         1.17848036e+00],\n",
       "       [-1.03019501e+00,  7.22504380e-01, -9.71890936e-01,\n",
       "         6.93132066e-01,  1.17975754e+00, -3.83300706e-01,\n",
       "        -1.04610909e+00, -1.39678967e-01,  1.47790748e+00,\n",
       "        -9.20864033e-01, -6.94988026e-01,  2.34498250e+00,\n",
       "         1.17848036e+00],\n",
       "       [-1.46566609e+00,  7.22504380e-01,  8.09909113e-03,\n",
       "         2.76317824e-01, -8.32151805e-01, -3.83300706e-01,\n",
       "         8.43132697e-01, -8.12138713e-01, -6.76632341e-01,\n",
       "        -9.20864033e-01, -6.94988026e-01, -6.89700735e-01,\n",
       "        -2.19657581e+00],\n",
       "       [ 6.02821534e-01, -1.38407465e+00,  9.88089118e-01,\n",
       "        -1.68866360e+00,  1.35058003e+00, -3.83300706e-01,\n",
       "         8.43132697e-01,  4.43119480e-01, -6.76632341e-01,\n",
       "        -9.20864033e-01,  9.53905134e-01,  3.21860343e-01,\n",
       "        -5.09047728e-01],\n",
       "       [ 3.85085995e-01,  7.22504380e-01, -9.71890936e-01,\n",
       "        -3.19131093e-01,  1.00893504e+00, -3.83300706e-01,\n",
       "        -1.04610909e+00,  9.36256628e-01, -6.76632341e-01,\n",
       "        -9.20864033e-01,  9.53905134e-01,  1.33342142e+00,\n",
       "         1.17848036e+00],\n",
       "       [ 8.20557073e-01, -1.38407465e+00, -9.71890936e-01,\n",
       "         1.76494012e+00, -1.57238260e+00, -3.83300706e-01,\n",
       "        -1.04610909e+00, -2.29340266e-01, -6.76632341e-01,\n",
       "         4.71398260e+00, -2.34388119e+00,  2.34498250e+00,\n",
       "         1.17848036e+00],\n",
       "       [ 1.58263146e+00,  7.22504380e-01,  9.88089118e-01,\n",
       "         5.74042282e-01,  1.35842312e-01, -3.83300706e-01,\n",
       "        -1.04610909e+00, -1.84509616e-01, -6.76632341e-01,\n",
       "         8.96828430e-01, -6.94988026e-01,  2.34498250e+00,\n",
       "         1.17848036e+00],\n",
       "       [-4.85856162e-01,  7.22504380e-01,  9.88089118e-01,\n",
       "        -8.09515263e-02, -9.65013743e-01, -3.83300706e-01,\n",
       "         8.43132697e-01,  5.77611430e-01, -6.76632341e-01,\n",
       "        -9.20864033e-01,  9.53905134e-01, -6.89700735e-01,\n",
       "        -5.09047728e-01],\n",
       "       [ 1.47376369e+00,  7.22504380e-01, -9.71890936e-01,\n",
       "         8.12221849e-01, -1.02195457e+00,  2.60891771e+00,\n",
       "         8.43132697e-01, -4.08662865e-01, -6.76632341e-01,\n",
       "         2.16921315e+00, -6.94988026e-01,  1.33342142e+00,\n",
       "         1.17848036e+00],\n",
       "       [ 6.02821534e-01,  7.22504380e-01, -9.71890936e-01,\n",
       "         8.71766741e-01,  6.67290062e-01, -3.83300706e-01,\n",
       "        -1.04610909e+00, -3.63832216e-01,  1.47790748e+00,\n",
       "         1.62390542e+00, -6.94988026e-01,  1.33342142e+00,\n",
       "         1.17848036e+00],\n",
       "       [-4.85856162e-01,  7.22504380e-01, -9.71890936e-01,\n",
       "         1.16949120e+00, -7.29407332e-02, -3.83300706e-01,\n",
       "        -1.04610909e+00, -9.91461312e-01, -6.76632341e-01,\n",
       "         1.44213617e+00, -6.94988026e-01, -6.89700735e-01,\n",
       "         1.17848036e+00]])"
      ]
     },
     "execution_count": 104,
     "metadata": {},
     "output_type": "execute_result"
    }
   ],
   "source": [
    "from sklearn.preprocessing import StandardScaler\n",
    "sc = StandardScaler().fit(X_train)\n",
    "X_train_std = sc.transform(X_train)\n",
    "X_test_std = sc.transform(X_test)\n",
    "X_test_std"
   ]
  },
  {
   "cell_type": "code",
   "execution_count": 111,
   "metadata": {},
   "outputs": [
    {
     "data": {
      "text/plain": [
       "SVC(C=100, kernel='linear')"
      ]
     },
     "execution_count": 111,
     "metadata": {},
     "output_type": "execute_result"
    }
   ],
   "source": [
    "from sklearn import svm\n",
    "clf_svm_1 = svm.SVC(kernel='linear', C=100)\n",
    "clf_svm_1.fit(X_train_std, y_train)"
   ]
  },
  {
   "cell_type": "code",
   "execution_count": 112,
   "metadata": {},
   "outputs": [],
   "source": [
    "y_train_pred = clf_svm_1.predict(X_train_std)\n",
    "y_test_pred = clf_svm_1.predict(X_test_std)"
   ]
  },
  {
   "cell_type": "code",
   "execution_count": 113,
   "metadata": {},
   "outputs": [
    {
     "data": {
      "text/plain": [
       "array([0, 1, 1, 0, 1, 1, 1, 0, 0, 1, 1, 0, 1, 0, 1, 1, 1, 0, 0, 0, 1, 0,\n",
       "       0, 1, 1, 0, 1, 1, 0, 1, 0, 0, 0, 0, 1, 0, 1, 1, 1, 1, 0, 1, 1, 1,\n",
       "       1, 0, 1, 1, 0, 0, 0, 0, 1, 1, 0, 0, 0, 1, 0, 0, 0], dtype=int64)"
      ]
     },
     "execution_count": 113,
     "metadata": {},
     "output_type": "execute_result"
    }
   ],
   "source": [
    "y_test_pred"
   ]
  },
  {
   "cell_type": "markdown",
   "metadata": {},
   "source": [
    "# Model Accuracy"
   ]
  },
  {
   "cell_type": "code",
   "execution_count": 114,
   "metadata": {},
   "outputs": [],
   "source": [
    "from sklearn.metrics import accuracy_score, confusion_matrix, classification_report"
   ]
  },
  {
   "cell_type": "code",
   "execution_count": 115,
   "metadata": {},
   "outputs": [
    {
     "data": {
      "text/plain": [
       "array([[26,  3],\n",
       "       [ 4, 28]], dtype=int64)"
      ]
     },
     "execution_count": 115,
     "metadata": {},
     "output_type": "execute_result"
    }
   ],
   "source": [
    "confusion_matrix(y_test, y_test_pred)"
   ]
  },
  {
   "cell_type": "code",
   "execution_count": 147,
   "metadata": {},
   "outputs": [
    {
     "name": "stdout",
     "output_type": "stream",
     "text": [
      " TN 21  TP 26  FN 6  FP 8\n"
     ]
    }
   ],
   "source": [
    "CM = confusion_matrix(y_test, y_test_pred)\n",
    "\n",
    "TN = CM[0][0]\n",
    "FN = CM[1][0]\n",
    "TP = CM[1][1]\n",
    "FP = CM[0][1]\n",
    "\n",
    "print(\" TN \" +str(TN), \" TP \" + str(TP), \" FN \"+ str(FN), \" FP \"+str(FP))"
   ]
  },
  {
   "cell_type": "code",
   "execution_count": 151,
   "metadata": {},
   "outputs": [
    {
     "name": "stdout",
     "output_type": "stream",
     "text": [
      "0.8125\n"
     ]
    }
   ],
   "source": [
    "# Sensitivity, hit rate, recall, or true positive rate\n",
    "TPR = TP/(TP+FN)\n",
    "# Specificity or true negative rate\n",
    "TNR = TN/(TN+FP) \n",
    "# Precision or positive predictive value\n",
    "PPV = TP/(TP+FP)\n",
    "# Negative predictive value\n",
    "NPV = TN/(TN+FN)\n",
    "# Fall out or false positive rate\n",
    "FPR = FP/(FP+TN)\n",
    "# False negative rate\n",
    "FNR = FN/(TP+FN)\n",
    "# False discovery rate\n",
    "FDR = FP/(TP+FP)\n",
    "\n",
    "# Overall accuracy\n",
    "ACC = (TP+TN)/(TP+FP+FN+TN)\n",
    "\n",
    "print(TPR)"
   ]
  },
  {
   "cell_type": "code",
   "execution_count": 118,
   "metadata": {},
   "outputs": [
    {
     "data": {
      "text/plain": [
       "0.8852459016393442"
      ]
     },
     "execution_count": 118,
     "metadata": {},
     "output_type": "execute_result"
    }
   ],
   "source": [
    "accuracy_score(y_test,y_test_pred)"
   ]
  },
  {
   "cell_type": "code",
   "execution_count": 68,
   "metadata": {},
   "outputs": [
    {
     "name": "stdout",
     "output_type": "stream",
     "text": [
      "              precision    recall  f1-score   support\n",
      "\n",
      "           0       0.89      0.86      0.88        29\n",
      "           1       0.88      0.91      0.89        32\n",
      "\n",
      "    accuracy                           0.89        61\n",
      "   macro avg       0.89      0.88      0.88        61\n",
      "weighted avg       0.89      0.89      0.89        61\n",
      "\n"
     ]
    }
   ],
   "source": [
    "print(classification_report(y_test, y_test_pred))\n"
   ]
  },
  {
   "cell_type": "code",
   "execution_count": 69,
   "metadata": {},
   "outputs": [
    {
     "data": {
      "text/plain": [
       "array([55, 54])"
      ]
     },
     "execution_count": 69,
     "metadata": {},
     "output_type": "execute_result"
    }
   ],
   "source": [
    "clf_svm_1.n_support_"
   ]
  },
  {
   "cell_type": "code",
   "execution_count": 71,
   "metadata": {},
   "outputs": [
    {
     "data": {
      "text/plain": [
       "<sklearn.metrics._plot.confusion_matrix.ConfusionMatrixDisplay at 0x21a5bbb2730>"
      ]
     },
     "execution_count": 71,
     "metadata": {},
     "output_type": "execute_result"
    },
    {
     "data": {
      "image/png": "[encoded data removed]",
      "text/plain": [
       "<Figure size 720x720 with 2 Axes>"
      ]
     },
     "metadata": {
      "needs_background": "light"
     },
     "output_type": "display_data"
    }
   ],
   "source": [
    "from sklearn.metrics import plot_confusion_matrix\n",
    "fig, ax = plt.subplots(figsize=(10, 10))\n",
    "plot_confusion_matrix(clf_svm_1, X_test, y_test, normalize='true' ,cmap=plt.cm.Blues, ax=ax)\n"
   ]
  },
  {
   "cell_type": "code",
   "execution_count": 72,
   "metadata": {},
   "outputs": [
    {
     "data": {
      "text/plain": [
       "<matplotlib.axes._subplots.AxesSubplot at 0x21a5c0c56a0>"
      ]
     },
     "execution_count": 72,
     "metadata": {},
     "output_type": "execute_result"
    },
    {
     "data": {
      "image/png": "[encoded data removed]",
      "text/plain": [
       "<Figure size 432x288 with 1 Axes>"
      ]
     },
     "metadata": {
      "needs_background": "light"
     },
     "output_type": "display_data"
    }
   ],
   "source": [
    "df.target.value_counts().plot.bar()"
   ]
  },
  {
   "cell_type": "markdown",
   "metadata": {},
   "source": [
    "# Task 2, Grid Search. \n",
    "#### - With GridSearch we dont need to manually check every parameter which gives us the best accuracy"
   ]
  },
  {
   "cell_type": "code",
   "execution_count": 119,
   "metadata": {},
   "outputs": [],
   "source": [
    "from sklearn.model_selection import GridSearchCV\n",
    "params = {'C':(0.1,1,100)}\n",
    "clf_svm_1=svm.SVC(kernel='linear')\n",
    "svm_grid_lin=GridSearchCV(clf_svm_1, params, n_jobs=-1,\n",
    "                         cv=10, verbose=1, scoring='accuracy')"
   ]
  },
  {
   "cell_type": "code",
   "execution_count": 120,
   "metadata": {},
   "outputs": [
    {
     "name": "stdout",
     "output_type": "stream",
     "text": [
      "Fitting 10 folds for each of 3 candidates, totalling 30 fits\n"
     ]
    },
    {
     "name": "stderr",
     "output_type": "stream",
     "text": [
      "[Parallel(n_jobs=-1)]: Using backend LokyBackend with 4 concurrent workers.\n",
      "[Parallel(n_jobs=-1)]: Done  30 out of  30 | elapsed:    5.1s finished\n"
     ]
    },
    {
     "data": {
      "text/plain": [
       "0.8852459016393442"
      ]
     },
     "execution_count": 120,
     "metadata": {},
     "output_type": "execute_result"
    }
   ],
   "source": [
    "svm_grid_lin.fit(X_train_std, y_train)\n",
    "svm_grid_lin.best_params_\n",
    "linsvm_clf = svm_grid_lin.best_estimator_\n",
    "accuracy_score(y_test, linsvm_clf.predict(X_test_std))"
   ]
  },
  {
   "cell_type": "code",
   "execution_count": 121,
   "metadata": {},
   "outputs": [
    {
     "data": {
      "text/plain": [
       "{'C': 100}"
      ]
     },
     "execution_count": 121,
     "metadata": {},
     "output_type": "execute_result"
    }
   ],
   "source": [
    "svm_grid_lin.best_params_"
   ]
  },
  {
   "cell_type": "markdown",
   "metadata": {},
   "source": [
    "# Cross Validation for poly and rbf "
   ]
  },
  {
   "cell_type": "code",
   "execution_count": 122,
   "metadata": {},
   "outputs": [],
   "source": [
    "from sklearn.model_selection import GridSearchCV\n",
    "params = {'C':(0.1,1,10,25,50,100)}\n",
    "clf_svm_p3=svm.SVC(kernel='poly')\n",
    "svm_grid_lin=GridSearchCV(clf_svm_p3, params, n_jobs=-1,\n",
    "                         cv=10, verbose=1, scoring='accuracy')"
   ]
  },
  {
   "cell_type": "code",
   "execution_count": 123,
   "metadata": {},
   "outputs": [
    {
     "name": "stdout",
     "output_type": "stream",
     "text": [
      "Fitting 10 folds for each of 6 candidates, totalling 60 fits\n"
     ]
    },
    {
     "name": "stderr",
     "output_type": "stream",
     "text": [
      "[Parallel(n_jobs=-1)]: Using backend LokyBackend with 4 concurrent workers.\n",
      "[Parallel(n_jobs=-1)]: Done  53 out of  60 | elapsed:    0.0s remaining:    0.0s\n",
      "[Parallel(n_jobs=-1)]: Done  60 out of  60 | elapsed:    0.1s finished\n"
     ]
    }
   ],
   "source": [
    "svm_grid_lin.fit(X_train_std, y_train)\n",
    "svm_grid_lin.best_params_\n",
    "linsvm_clf = svm_grid_lin.best_estimator_"
   ]
  },
  {
   "cell_type": "code",
   "execution_count": 124,
   "metadata": {},
   "outputs": [
    {
     "data": {
      "text/plain": [
       "{'C': 1}"
      ]
     },
     "execution_count": 124,
     "metadata": {},
     "output_type": "execute_result"
    }
   ],
   "source": [
    "svm_grid_lin.best_params_"
   ]
  },
  {
   "cell_type": "code",
   "execution_count": 125,
   "metadata": {},
   "outputs": [],
   "source": [
    "from sklearn.model_selection import GridSearchCV\n",
    "params = {'C':(0.1, 0.2, 1,10,25,50,100)}\n",
    "clf_svm_r=svm.SVC(kernel='rbf')\n",
    "svm_grid_lin=GridSearchCV(clf_svm_r, params, n_jobs=-1,\n",
    "                         cv=10, verbose=1, scoring='accuracy')"
   ]
  },
  {
   "cell_type": "code",
   "execution_count": 126,
   "metadata": {},
   "outputs": [
    {
     "name": "stdout",
     "output_type": "stream",
     "text": [
      "Fitting 10 folds for each of 7 candidates, totalling 70 fits\n"
     ]
    },
    {
     "name": "stderr",
     "output_type": "stream",
     "text": [
      "[Parallel(n_jobs=-1)]: Using backend LokyBackend with 4 concurrent workers.\n",
      "[Parallel(n_jobs=-1)]: Done  70 out of  70 | elapsed:    0.1s finished\n"
     ]
    }
   ],
   "source": [
    "svm_grid_lin.fit(X_train_std, y_train)\n",
    "svm_grid_lin.best_params_\n",
    "linsvm_clf = svm_grid_lin.best_estimator_"
   ]
  },
  {
   "cell_type": "code",
   "execution_count": 127,
   "metadata": {},
   "outputs": [
    {
     "data": {
      "text/plain": [
       "{'C': 1}"
      ]
     },
     "execution_count": 127,
     "metadata": {},
     "output_type": "execute_result"
    }
   ],
   "source": [
    "svm_grid_lin.best_params_"
   ]
  },
  {
   "cell_type": "markdown",
   "metadata": {},
   "source": [
    "# Polynomial kernel"
   ]
  },
  {
   "cell_type": "code",
   "execution_count": 142,
   "metadata": {},
   "outputs": [
    {
     "data": {
      "text/plain": [
       "SVC(C=1, degree=2, kernel='poly')"
      ]
     },
     "execution_count": 142,
     "metadata": {},
     "output_type": "execute_result"
    }
   ],
   "source": [
    "clf_svm_p3 = svm.SVC(kernel='poly', degree= 2, C= 1)\n",
    "clf_svm_p3.fit(X_train_std, y_train)"
   ]
  },
  {
   "cell_type": "code",
   "execution_count": 143,
   "metadata": {},
   "outputs": [],
   "source": [
    "y_train_pred = clf_svm_p3.predict(X_train_std)\n",
    "y_test_pred = clf_svm_p3.predict(X_test_std)"
   ]
  },
  {
   "cell_type": "code",
   "execution_count": 144,
   "metadata": {},
   "outputs": [
    {
     "data": {
      "text/plain": [
       "0.7704918032786885"
      ]
     },
     "execution_count": 144,
     "metadata": {},
     "output_type": "execute_result"
    }
   ],
   "source": [
    "accuracy_score(y_test,y_test_pred)"
   ]
  },
  {
   "cell_type": "code",
   "execution_count": 145,
   "metadata": {},
   "outputs": [
    {
     "data": {
      "text/plain": [
       "array([94, 95])"
      ]
     },
     "execution_count": 145,
     "metadata": {},
     "output_type": "execute_result"
    }
   ],
   "source": [
    "clf_svm_p3.n_support_"
   ]
  },
  {
   "cell_type": "markdown",
   "metadata": {},
   "source": [
    "# RBF kernel"
   ]
  },
  {
   "cell_type": "code",
   "execution_count": 138,
   "metadata": {},
   "outputs": [
    {
     "data": {
      "text/plain": [
       "SVC(C=1, gamma=0.5)"
      ]
     },
     "execution_count": 138,
     "metadata": {},
     "output_type": "execute_result"
    }
   ],
   "source": [
    "clf_svm_r = svm.SVC(kernel='rbf', gamma=0.5, C=1)\n",
    "clf_svm_r.fit(X_train_std, y_train)"
   ]
  },
  {
   "cell_type": "code",
   "execution_count": 139,
   "metadata": {},
   "outputs": [],
   "source": [
    "y_train_pred = clf_svm_r.predict(X_train_std)\n",
    "y_test_pred = clf_svm_r.predict(X_test_std)"
   ]
  },
  {
   "cell_type": "code",
   "execution_count": 140,
   "metadata": {},
   "outputs": [
    {
     "data": {
      "text/plain": [
       "0.8360655737704918"
      ]
     },
     "execution_count": 140,
     "metadata": {},
     "output_type": "execute_result"
    }
   ],
   "source": [
    "accuracy_score(y_test, y_test_pred)"
   ]
  },
  {
   "cell_type": "code",
   "execution_count": 141,
   "metadata": {},
   "outputs": [
    {
     "data": {
      "text/plain": [
       "array([108, 126])"
      ]
     },
     "execution_count": 141,
     "metadata": {},
     "output_type": "execute_result"
    }
   ],
   "source": [
    "clf_svm_r.n_support_"
   ]
  }
 ],
 "metadata": {
  "kernelspec": {
   "display_name": "Python 3",
   "language": "python",
   "name": "python3"
  },
  "language_info": {
   "codemirror_mode": {
    "name": "ipython",
    "version": 3
   },
   "file_extension": ".py",
   "mimetype": "text/x-python",
   "name": "python",
   "nbconvert_exporter": "python",
   "pygments_lexer": "ipython3",
   "version": "3.8.3"
  }
 },
 "nbformat": 4,
 "nbformat_minor": 4
}

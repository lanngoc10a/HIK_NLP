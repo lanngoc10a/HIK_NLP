{
 "cells": [
  {
   "cell_type": "markdown",
   "id": "a4d1d235-f321-4262-9a51-f0ee7d603040",
   "metadata": {},
   "source": [
    "# Exercises and topics covered in TA session 6 OCT 2021"
   ]
  },
  {
   "cell_type": "markdown",
   "id": "7d2cc593-84ac-4c9a-a32f-fbf31d8f32e2",
   "metadata": {},
   "source": [
    "## Some basics on data structures in Python"
   ]
  },
  {
   "cell_type": "code",
   "execution_count": 2,
   "id": "e7075b21",
   "metadata": {},
   "outputs": [
    {
     "name": "stdout",
     "output_type": "stream",
     "text": [
      "<class 'int'>\n"
     ]
    }
   ],
   "source": [
    "### firstly, some notes on Python's data types.\n",
    "x = 2 # letting x be the integer 2\n",
    "print(type(x)) #making python tell what data type it is"
   ]
  },
  {
   "cell_type": "code",
   "execution_count": 3,
   "id": "3a29a2d0",
   "metadata": {},
   "outputs": [
    {
     "name": "stdout",
     "output_type": "stream",
     "text": [
      "1.0 <class 'float'>\n"
     ]
    }
   ],
   "source": [
    "y = x/2 #dividing the integer 2 with 2. y should hold the value 1 (int). However, dividing always returns the data type float (number with decimals)\n",
    "print(y,type(y)) #printing y and its data type"
   ]
  },
  {
   "cell_type": "code",
   "execution_count": 4,
   "id": "4e9492c9",
   "metadata": {},
   "outputs": [
    {
     "name": "stdout",
     "output_type": "stream",
     "text": [
      "1 <class 'int'>\n"
     ]
    }
   ],
   "source": [
    "### please note that y  holds the decimal number 1.0 (a float), even though we mathematically know that there is no need for the decimals given that x was an int.\n",
    "### we can force the result to become an int if we like/need:\n",
    "y = int(x/2)\n",
    "print(y,type(y))"
   ]
  },
  {
   "cell_type": "code",
   "execution_count": 5,
   "id": "c18da9f0",
   "metadata": {},
   "outputs": [
    {
     "name": "stdout",
     "output_type": "stream",
     "text": [
      "1 is of the type <class 'int'>, although we are now outputting it as a <class 'str'>\n"
     ]
    }
   ],
   "source": [
    "### we can even force numbers to be treated as string if we need to - for example when concatenating a number with a string in the print statement:\n",
    "print(str(y)+' is of the type '+str(type(y))+', although we are now outputting it as a '+str(type(str(y))))\n",
    "\n",
    "### note that I had to use str() around the type statements also to be able to concatenate them with string in a print statement"
   ]
  },
  {
   "cell_type": "code",
   "execution_count": 6,
   "id": "75148395",
   "metadata": {},
   "outputs": [
    {
     "name": "stdout",
     "output_type": "stream",
     "text": [
      "['1336', '1338', ' 1339'] \n",
      " <class 'str'>\n"
     ]
    }
   ],
   "source": [
    "### str to int/float also works, in case you are provided with numerical data in a format where it is not read as int or float initially:\n",
    "inputStr = '1336,1338, 1339'\n",
    "### I want numbers 1336, 1338 and 1339 stored as ints. I need to split on the comma, remove whitespace and tell Python to treat them as ints, and place them in a suitable container.\n",
    "\n",
    "listStr = inputStr.split(',')\n",
    "print(listStr,'\\n',type(listStr[0])) #ok I did split on comma, but the type is still str. however, they are already in a list, which seems fine."
   ]
  },
  {
   "cell_type": "code",
   "execution_count": 7,
   "id": "112d3f93",
   "metadata": {},
   "outputs": [
    {
     "name": "stdout",
     "output_type": "stream",
     "text": [
      "[1336, 1338, 1339] \n",
      " <class 'int'>\n"
     ]
    }
   ],
   "source": [
    "listNum = []\n",
    "for number in listStr:\n",
    "    listNum.append(int(number.strip()))\n",
    "print(listNum,'\\n',type(listNum[0]))"
   ]
  },
  {
   "cell_type": "code",
   "execution_count": 8,
   "id": "d1e24f55",
   "metadata": {},
   "outputs": [
    {
     "data": {
      "text/plain": [
       "[str, dict, int, float, list, bool]"
      ]
     },
     "execution_count": 8,
     "metadata": {},
     "output_type": "execute_result"
    }
   ],
   "source": [
    "### another problem: I have list of various data types, and I want a simple understanding on what data type each item is, based on the item's index in the list:\n",
    "inputList = ['some words', {'keyone':'valueone', 'keytwo':'valuetwo'},135,12.4,[1,2,3], False]\n",
    "typeList = [type(item) for item in inputList]\n",
    "typeList"
   ]
  },
  {
   "cell_type": "code",
   "execution_count": 9,
   "id": "36207e86",
   "metadata": {},
   "outputs": [
    {
     "data": {
      "text/plain": [
       "{0: str, 1: dict, 2: int, 3: float, 4: list, 5: bool}"
      ]
     },
     "execution_count": 9,
     "metadata": {},
     "output_type": "execute_result"
    }
   ],
   "source": [
    "dict(enumerate(typeList))"
   ]
  },
  {
   "cell_type": "code",
   "execution_count": 10,
   "id": "ef1a0f74",
   "metadata": {},
   "outputs": [
    {
     "data": {
      "text/plain": [
       "{0: str, 1: dict, 2: int, 3: float, 4: list, 5: bool}"
      ]
     },
     "execution_count": 10,
     "metadata": {},
     "output_type": "execute_result"
    }
   ],
   "source": [
    "### meaning my problem can be solved by this oneliner:\n",
    "typeIndex = dict(enumerate([type(item) for item in inputList]))\n",
    "typeIndex"
   ]
  },
  {
   "cell_type": "code",
   "execution_count": 11,
   "id": "1eeab712",
   "metadata": {},
   "outputs": [
    {
     "data": {
      "text/plain": [
       "True"
      ]
     },
     "execution_count": 11,
     "metadata": {},
     "output_type": "execute_result"
    }
   ],
   "source": [
    "type(inputList[0])==typeIndex[0]### unsurprisingly, python agrees with itself and returns True on this boolean. Bool is another data type."
   ]
  },
  {
   "cell_type": "code",
   "execution_count": 12,
   "id": "64566e94",
   "metadata": {},
   "outputs": [
    {
     "data": {
      "text/plain": [
       "True"
      ]
     },
     "execution_count": 12,
     "metadata": {},
     "output_type": "execute_result"
    }
   ],
   "source": [
    "### as evident from above, an equals check is inherently of the data type bool. \n",
    "\n",
    "### the following bools highlight some pecularities of bool in python\n",
    "1 == True"
   ]
  },
  {
   "cell_type": "code",
   "execution_count": 13,
   "id": "956dd3f3",
   "metadata": {},
   "outputs": [
    {
     "data": {
      "text/plain": [
       "False"
      ]
     },
     "execution_count": 13,
     "metadata": {},
     "output_type": "execute_result"
    }
   ],
   "source": [
    "5 == True"
   ]
  },
  {
   "cell_type": "code",
   "execution_count": 14,
   "id": "4fad1729",
   "metadata": {},
   "outputs": [
    {
     "data": {
      "text/plain": [
       "True"
      ]
     },
     "execution_count": 14,
     "metadata": {},
     "output_type": "execute_result"
    }
   ],
   "source": [
    "bool(5) == True"
   ]
  },
  {
   "cell_type": "code",
   "execution_count": 15,
   "id": "a888253c",
   "metadata": {},
   "outputs": [
    {
     "data": {
      "text/plain": [
       "True"
      ]
     },
     "execution_count": 15,
     "metadata": {},
     "output_type": "execute_result"
    }
   ],
   "source": [
    "bool(0.4)"
   ]
  },
  {
   "cell_type": "code",
   "execution_count": 16,
   "id": "29e81656",
   "metadata": {},
   "outputs": [
    {
     "data": {
      "text/plain": [
       "False"
      ]
     },
     "execution_count": 16,
     "metadata": {},
     "output_type": "execute_result"
    }
   ],
   "source": [
    "bool(0)"
   ]
  },
  {
   "cell_type": "code",
   "execution_count": 17,
   "id": "44e6de60",
   "metadata": {},
   "outputs": [
    {
     "data": {
      "text/plain": [
       "True"
      ]
     },
     "execution_count": 17,
     "metadata": {},
     "output_type": "execute_result"
    }
   ],
   "source": [
    "bool(\"text\")"
   ]
  },
  {
   "cell_type": "code",
   "execution_count": 18,
   "id": "d18d860e",
   "metadata": {},
   "outputs": [
    {
     "data": {
      "text/plain": [
       "False"
      ]
     },
     "execution_count": 18,
     "metadata": {},
     "output_type": "execute_result"
    }
   ],
   "source": [
    "bool('')"
   ]
  },
  {
   "cell_type": "code",
   "execution_count": 19,
   "id": "6f50a792",
   "metadata": {},
   "outputs": [
    {
     "data": {
      "text/plain": [
       "False"
      ]
     },
     "execution_count": 19,
     "metadata": {},
     "output_type": "execute_result"
    }
   ],
   "source": [
    "bool([])"
   ]
  },
  {
   "cell_type": "code",
   "execution_count": 20,
   "id": "ccb3446e",
   "metadata": {},
   "outputs": [
    {
     "data": {
      "text/plain": [
       "True"
      ]
     },
     "execution_count": 20,
     "metadata": {},
     "output_type": "execute_result"
    }
   ],
   "source": [
    "bool([1,2])"
   ]
  },
  {
   "cell_type": "markdown",
   "id": "63199f63-7d9b-48b9-a7a1-e96202f5a6fb",
   "metadata": {},
   "source": [
    "## Importing CSV with numpy"
   ]
  },
  {
   "cell_type": "code",
   "execution_count": 21,
   "id": "7a288372",
   "metadata": {},
   "outputs": [],
   "source": [
    "import numpy as np\n",
    "#The csv imported has been uploaded along \n",
    "#with this notebook\n",
    "start_array = np.genfromtxt('sort of random data.csv',dtype='float',delimiter=';',filling_values=0)"
   ]
  },
  {
   "cell_type": "code",
   "execution_count": 22,
   "id": "bf3b0ca2",
   "metadata": {},
   "outputs": [
    {
     "data": {
      "text/plain": [
       "(26, 7)"
      ]
     },
     "execution_count": 22,
     "metadata": {},
     "output_type": "execute_result"
    }
   ],
   "source": [
    "#The .shape tells us number of rows, and \n",
    "#columns, respectively\n",
    "start_array.shape"
   ]
  },
  {
   "cell_type": "code",
   "execution_count": 23,
   "id": "0c7f03dc-926b-47a6-8614-76ed0617b9ae",
   "metadata": {},
   "outputs": [
    {
     "data": {
      "text/plain": [
       "array([298.12,  48.93,  29.61, 151.  ,  55.1 ,  95.45,  34.4 ,  86.94,\n",
       "        64.69,  34.01,  31.25, 357.19, 216.56, 233.44,  24.29, 155.  ,\n",
       "       151.61, 151.  ,  47.81, 170.64,  99.36,  42.3 ,  14.94,  43.85,\n",
       "       267.7 , 106.61])"
      ]
     },
     "execution_count": 23,
     "metadata": {},
     "output_type": "execute_result"
    }
   ],
   "source": [
    "#Making a slice of the array \n",
    "#to inspect one column of the data\n",
    "start_array[:,4]"
   ]
  },
  {
   "cell_type": "markdown",
   "id": "30681b28-1705-4486-a3bf-ceacfbb3229e",
   "metadata": {},
   "source": [
    "Remember that NumPy has a great documentation online at numpy.org. This is an example of the documentation of np.genfromtxt as used above:\n",
    "https://numpy.org/doc/stable/reference/generated/numpy.genfromtxt.html#numpy.genfromtxt"
   ]
  },
  {
   "cell_type": "markdown",
   "id": "f8c185b0-a402-4d3e-8fcf-e5c4eec4e5f0",
   "metadata": {},
   "source": [
    "## Quick look at early steps of text processing pipeline\n",
    "We only scrolled through some of these steps and commented on their functions. Here shown with example texts."
   ]
  },
  {
   "cell_type": "code",
   "execution_count": 46,
   "id": "5f338041-05d8-48ff-80af-5699850fec79",
   "metadata": {},
   "outputs": [],
   "source": [
    "strings_raw = [\n",
    "    'The course provides knowledge of the key concepts, techniques and methods related to machine learning. Topics include an understanding of the mathematical basics of data mining and machine learning, linear models for regression such as maximum likelihood, sequential learning, regularized least squares and classification models such as probabilistic generative models, probabilistic discriminative models. Furthermore, the course provides the students with practical hands-on experience on machine learning using open source machine learning libraries such as scikit-learn in Python programming language. The course also provides knowledge of the key concepts, techniques and methods in natural language processing to text analytics. The students gain in depth knowledge of natural language processing and will further apply this to practical scenarios with acquired skills in text classification methods. The course provides students with hands-on experience on text analytics using open source machine learning libraries such as scikit-learn, Natural Language Toolkit (NLTK) in Python programming language. After completing the course, the students will be able to apply and use appropriate machine learning techniques in various data science domains.'\n",
    "    ,\n",
    "    \"\"\"can select appropriate machine learning methods (such as linear models, classification models, text classification, semantic textual similarity, word sense disambiguation and neural language models) and tools for a given data science problem\n",
    "can analyze mathematically the performance of machine learning methods and techniques\n",
    "can apply techniques from the course to new data science problems in terms of selection of appropriate machine learning methods, techniques and tools\n",
    "can use python or similar to implement machine learning methods and techniques\n",
    "can discuss concepts and applications of machine learning (including text)\"\"\"\n",
    "    ,\n",
    "    'The aim of the course is to introduce the students to the concepts '\n",
    "    'and techniques of natural languages processing and analysis, '\n",
    "    'unstructured information analysis and management for better '\n",
    "    'decision- making by deriving valuable insights from enterprise '\n",
    "    'content regardless of source or format. The course provides deep '\n",
    "    'and rich knowledge of text analysis techniques and applications '\n",
    "    'including sentiment analysis and opinion mining, information access '\n",
    "    'and text mining, document classification, topic extraction and other '\n",
    "    'techniques and applications using real-world data and cases.'\n",
    "        ]"
   ]
  },
  {
   "cell_type": "code",
   "execution_count": 49,
   "id": "12c5ed63-2f43-4332-ba49-a47602f77fc0",
   "metadata": {},
   "outputs": [],
   "source": [
    "from nltk.tokenize import sent_tokenize, word_tokenize\n",
    "from nltk.corpus import stopwords\n",
    "import re #regular expressions package"
   ]
  },
  {
   "cell_type": "code",
   "execution_count": 50,
   "id": "02f243f9-6d78-47d4-a32d-e93bd1587e74",
   "metadata": {},
   "outputs": [],
   "source": [
    "#defining what characters to keep\n",
    "remove='[^A-Za-zæøå .-]' #the ^syntax designates that I want to remove anything but what is after the ^\n",
    "\n",
    "#removing other characters\n",
    "strings_lower = [re.sub(remove,'',element).lower() for element in strings_raw] \n",
    "#doing both lower case conversion, and removal of special characters in this list operation"
   ]
  },
  {
   "cell_type": "code",
   "execution_count": 51,
   "id": "cc22a237-d77d-44de-bfe6-75f14f2888ab",
   "metadata": {},
   "outputs": [],
   "source": [
    "#tokenizing into words\n",
    "strings_words = [word_tokenize(element) for element in strings_lower] \n",
    "#I still have the punctuation after this, but that can be removed at the same time as stopwords."
   ]
  },
  {
   "cell_type": "code",
   "execution_count": 57,
   "id": "276f38ff-57e7-462c-a51f-aa41782c8033",
   "metadata": {},
   "outputs": [],
   "source": [
    "#feel free to inspect the intermediate results at this point to see what the tokenization is doing."
   ]
  },
  {
   "cell_type": "code",
   "execution_count": 54,
   "id": "d2619e04-4f4a-449c-9892-28ccb85f7748",
   "metadata": {},
   "outputs": [],
   "source": [
    "#defining stopwords as an editable list\n",
    "stops = stopwords.words()\n",
    "stops.append('.')   #also adding the periods to the \n",
    "                    #list of stops as they are not needed for \n",
    "                    #bag of words which is the target \n",
    "                    #representation in this case\n",
    "\n",
    "#removing stopwords, and any whitespace\n",
    "strings_words_nonstop = [\n",
    "    [word.strip() for word in string if not word.strip() in stops]  #list of lists, double for loop\n",
    "    for string in strings_words\n",
    "        ]\n",
    "\n",
    "#the resulting strings_words_nonstop are sufficient for creating Bag of Words\n",
    "#representations based on for example the Counter function (from Collections)"
   ]
  },
  {
   "cell_type": "code",
   "execution_count": 56,
   "id": "04bfc7ed-28b6-4b27-8026-b6b8524deab2",
   "metadata": {},
   "outputs": [
    {
     "data": {
      "text/plain": [
       "['course provides knowledge key concepts techniques methods related machine learning topics include understanding mathematical basics data mining machine learning linear models regression maximum likelihood sequential learning regularized least squares classification models probabilistic generative models probabilistic discriminative models furthermore course provides students practical hands-on experience machine learning using open source machine learning libraries scikit-learn python programming language course provides knowledge key concepts techniques methods natural language processing text analytics students gain depth knowledge natural language processing apply practical scenarios acquired skills text classification methods course provides students hands-on experience text analytics using open source machine learning libraries scikit-learn natural language toolkit nltk python programming language completing course students able apply use appropriate machine learning techniques various data science domains',\n",
       " 'select appropriate machine learning methods linear models classification models text classification semantic textual similarity word sense disambiguation neural language models tools given data science problemcan analyze mathematically performance machine learning methods techniquescan apply techniques course new data science problems terms selection appropriate machine learning methods techniques toolscan use python similar implement machine learning methods techniquescan discuss concepts applications machine learning including text',\n",
       " 'aim course introduce students concepts techniques natural languages processing analysis unstructured information analysis management better decision- making deriving valuable insights enterprise content regardless source format course provides deep rich knowledge text analysis techniques applications including sentiment analysis opinion mining information access text mining document classification topic extraction techniques applications using real-world data cases']"
      ]
     },
     "execution_count": 56,
     "metadata": {},
     "output_type": "execute_result"
    }
   ],
   "source": [
    "#While we now have our lists of lists of words, we may depending on \n",
    "#choices ahead choose to join the words together after these preprocessing steps.\n",
    "\n",
    "#we may also choose to do more in preprocessing, for instance lemmatization/converting\n",
    "#all the words to their stems, depending on how we want to tune the model.\n",
    "\n",
    "\n",
    "#here's an example of joining words together again for our lists of lists \n",
    "#again with a double for loop.\n",
    "strings_bow_input = [(\" \").join([word for word in string]) \n",
    "               for string in strings_words_nonstop]\n",
    "\n",
    "#regardless of imagined use case, it is easier to inspect the resulting contents after \n",
    "#preprocessing in a concatenated state than in long lists of words.\n",
    "strings_bow_input"
   ]
  },
  {
   "cell_type": "markdown",
   "id": "1cedf3a3-904b-48ae-b97a-635cd36caf9a",
   "metadata": {},
   "source": [
    "## Mentioning the existence of the plotting package Matplotlib\n",
    "Finally, wrapping up the session, I briefly mentioned the Matplotlib package for plotting and so on.\n",
    "\n",
    "Matplotlib, like Numpy, has great documentation pages online, at matplotlib.org. When you get into creating visualizations of the data, whatever data you are working on, you can for example check out the guide on choosing colormaps: https://matplotlib.org/stable/tutorials/colors/colormaps.html"
   ]
  },
  {
   "cell_type": "code",
   "execution_count": 45,
   "id": "5ef9378d-1d73-4f2b-9f47-84ba3d60fc57",
   "metadata": {},
   "outputs": [
    {
     "data": {
      "image/png": "[encoded data removed]",
      "text/plain": [
       "<Figure size 864x360 with 8 Axes>"
      ]
     },
     "metadata": {},
     "output_type": "display_data"
    }
   ],
   "source": [
    "#The following was not covered explicitly, \n",
    "#but I highlighted that we can also discuss\n",
    "#use of plots with matplotlib, including with \n",
    "#use of formatting to make the plots fit in\n",
    "#reports/deliverables (color palettes, \n",
    "#fonts and sizes). Of course, also the ability\n",
    "#to create various types of plots based on your\n",
    "#data.\n",
    "\n",
    "#For an CSV-file with no context provided as to\n",
    "#what it contains, testing some plots could be a \n",
    "#good idea\n",
    "\n",
    "import matplotlib.pyplot as plt\n",
    "plt.style.use('ggplot')\n",
    "fig, figures = plt.subplots(2,4, figsize=(12,5))\n",
    "\n",
    "#some basic plots\n",
    "for i in range(6):\n",
    "    figures.reshape(8,)[i].plot( start_array[:,i])\n",
    "    figures.reshape(8,)[i].set_xlim(0,)\n",
    "    figures.reshape(8,)[i].set_ylim(-10,)\n",
    "\n",
    "#a scatter plot of first two columns as x, y, respectively\n",
    "figures.reshape(8,)[6].scatter(start_array[:,0],start_array[:,1])\n",
    "figures.reshape(8,)[6].set_xlim(0,45)\n",
    "figures.reshape(8,)[6].set_ylim(45,70)\n",
    "\n",
    "#and last square is empty\n",
    "figures.reshape(8,)[7].text(4.,4.5,'empty')\n",
    "figures.reshape(8,)[7].set_xlim(0,10)\n",
    "figures.reshape(8,)[7].set_ylim(0,10)\n",
    "\n",
    "plt.show()"
   ]
  }
 ],
 "metadata": {
  "kernelspec": {
   "display_name": "Python 3",
   "language": "python",
   "name": "python3"
  },
  "language_info": {
   "codemirror_mode": {
    "name": "ipython",
    "version": 3
   },
   "file_extension": ".py",
   "mimetype": "text/x-python",
   "name": "python",
   "nbconvert_exporter": "python",
   "pygments_lexer": "ipython3",
   "version": "3.9.2"
  },
  "widgets": {
   "application/vnd.jupyter.widget-state+json": {
    "state": {},
    "version_major": 2,
    "version_minor": 0
   }
  }
 },
 "nbformat": 4,
 "nbformat_minor": 5
}

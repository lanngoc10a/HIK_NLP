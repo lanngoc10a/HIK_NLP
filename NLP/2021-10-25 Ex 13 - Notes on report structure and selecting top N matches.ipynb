{
 "cells": [
  {
   "cell_type": "markdown",
   "metadata": {},
   "source": [
    "# Exercise/TA session on 25 October 2021\n",
    "\n",
    "## Key points from comments on how to write an analysis report\n",
    "* __Submit in PDF__. PDF gives you control of how the delivered content is displayed to the end user. It is a universally accepted document format where your formatting will not be altered by the reviewer's version of MS Word or equivalent software.\n",
    "* __Structure your report__. For example, given the current assignment with a 4 page max length:\n",
    "    * Introduction: Explain what the report is about - what is the task/analysis conducted in the report, and how is it structured\n",
    "    * Method: Explain how the task is solved, and for this assignment, be specific on coding steps in order to show that you understand why the various preprocessing and processing steps are taken, and how the underlying basic models work. But do not include code snippets in the text; leave it for the appendix and the .py or .ipynb attachment.\n",
    "    * Results and discussion: Present the results, and offer your cognitive judgment on model performance, whether results are reasonable, what matching scores have been accomplished, and offer hypotheses for why the model behaves as it does with the given data. Discuss whether your results or your model is generalizable, and/or for what types of documents or problems it is well suited. Discuss whether other models may have yielded different results on your data, and how - as in \"opportunities for future research\", often seen in academic journal papers.\n",
    "    * Conclusion: Briefly re-iterate what you set out to do (very short, but same meaning as communicated in the Introduction section), how you have done it (very short, but same meaning as communicated in the Method section), and what were the results. Conclude by a very brief note of some of the analysis from the Results and discussion section.\n",
    "    * References\n",
    "* __Be clear and concise__ in your choice of words. \n",
    "    * Use only words and concepts you fully understand, and create efficient, accurate sentences. \n",
    "    * Feel free to mix long and short sentences. Not every sentence has to be as complex as the most advanced NLP model. A concise, to-the-point and accurate language style is more impressive. \n",
    "    * Avoid 'I did...' and other personal nouns. Rather, employ the slightly passive and inpersonal language style of (good) research papers. For example: \"The preprocessing includes tokenization, stopwords and special character removal...\"/\"During preprocessing, the documents are tokenized...\"\n",
    "* __Make sure the report looks good__, typesetting/graphics wise. Take inspiration from (good) research papers in journals, except keep it single column and (for this assignment) skip the abstract.\n",
    "* __Use__ charts and __figures if helpful__ to explain your analysis, underlying model logic et cetera.\n",
    "* __Use references where applicable__. Any accepted academic referencing standard.\n",
    "\n",
    "## Key remarks on the code attachment\n",
    "* __Use comments extensively__. Even on very simple operations. Show us that you understand what's going on in every line of your code. \n",
    "* __Make sure the code attachment is executable__ and bug-free. Delivery as __.ipynb__ or __.py__. "
   ]
  },
  {
   "cell_type": "markdown",
   "metadata": {},
   "source": [
    "## A little demonstration of selecting the top N matches based on a pairwise similarity array\n",
    "### Prerequisite code snippets to get to the point - from previous classes"
   ]
  },
  {
   "cell_type": "code",
   "execution_count": 1,
   "metadata": {},
   "outputs": [],
   "source": [
    "def preprocessing(corpus): #same as previous sessions\n",
    "    \"\"\" (same as above, but: ) takes a list of strings (corpus of documents), \n",
    "    do preprocessing on each one, return list of preprocessed corpus\n",
    "    \"\"\"\n",
    "    \n",
    "    from nltk import word_tokenize\n",
    "    from nltk.corpus import stopwords\n",
    "    stopwords = stopwords.words('english') #getting the english stop words list from NLTK\n",
    "    corpusTokens = [word_tokenize(item) for item in corpus]\n",
    "    corpusTokens = [ [word.lower().strip() for word in item if word.isalnum() and word not in stopwords] \n",
    "               for item in corpusTokens]\n",
    "    \n",
    "    return corpusTokens"
   ]
  },
  {
   "cell_type": "code",
   "execution_count": 2,
   "metadata": {},
   "outputs": [
    {
     "data": {
      "text/html": [
       "<div>\n",
       "<style scoped>\n",
       "    .dataframe tbody tr th:only-of-type {\n",
       "        vertical-align: middle;\n",
       "    }\n",
       "\n",
       "    .dataframe tbody tr th {\n",
       "        vertical-align: top;\n",
       "    }\n",
       "\n",
       "    .dataframe thead th {\n",
       "        text-align: right;\n",
       "    }\n",
       "</style>\n",
       "<table border=\"1\" class=\"dataframe\">\n",
       "  <thead>\n",
       "    <tr style=\"text-align: right;\">\n",
       "      <th></th>\n",
       "      <th>string</th>\n",
       "      <th>date</th>\n",
       "      <th>url</th>\n",
       "      <th>author</th>\n",
       "      <th>source</th>\n",
       "    </tr>\n",
       "  </thead>\n",
       "  <tbody>\n",
       "    <tr>\n",
       "      <th>0</th>\n",
       "      <td>William Shatner becomes the oldest person to r...</td>\n",
       "      <td>2021-10-13T14:54:44Z</td>\n",
       "      <td>https://www.engadget.com/william-shatner-blue-...</td>\n",
       "      <td>Jon Fingas</td>\n",
       "      <td>{'id': 'engadget', 'name': 'Engadget'}</td>\n",
       "    </tr>\n",
       "    <tr>\n",
       "      <th>1</th>\n",
       "      <td>Jett: The Far Shore Imagines Conscientious Spa...</td>\n",
       "      <td>2021-10-13T12:00:00Z</td>\n",
       "      <td>https://www.wired.com/story/jett-the-far-shore...</td>\n",
       "      <td>Lewis Gordon</td>\n",
       "      <td>{'id': 'wired', 'name': 'Wired'}</td>\n",
       "    </tr>\n",
       "    <tr>\n",
       "      <th>2</th>\n",
       "      <td>11 Scary Space Facts That'll Make You Apprecia...</td>\n",
       "      <td>2021-10-08T12:00:00Z</td>\n",
       "      <td>https://lifehacker.com/11-scary-space-facts-th...</td>\n",
       "      <td>Stephen Johnson</td>\n",
       "      <td>{'id': None, 'name': 'Lifehacker.com'}</td>\n",
       "    </tr>\n",
       "    <tr>\n",
       "      <th>3</th>\n",
       "      <td>UK takes on Elon Musk in the broadband space r...</td>\n",
       "      <td>2021-10-10T14:01:00Z</td>\n",
       "      <td>https://techncruncher.blogspot.com/2021/10/uk-...</td>\n",
       "      <td>noreply@blogger.com (Unknown)</td>\n",
       "      <td>{'id': None, 'name': 'Blogspot.com'}</td>\n",
       "    </tr>\n",
       "    <tr>\n",
       "      <th>4</th>\n",
       "      <td>Blue Origin postpones William Shatner’s space ...</td>\n",
       "      <td>2021-10-10T19:12:00Z</td>\n",
       "      <td>https://techncruncher.blogspot.com/2021/10/blu...</td>\n",
       "      <td>noreply@blogger.com (Unknown)</td>\n",
       "      <td>{'id': None, 'name': 'Blogspot.com'}</td>\n",
       "    </tr>\n",
       "  </tbody>\n",
       "</table>\n",
       "</div>"
      ],
      "text/plain": [
       "                                              string                  date  \\\n",
       "0  William Shatner becomes the oldest person to r...  2021-10-13T14:54:44Z   \n",
       "1  Jett: The Far Shore Imagines Conscientious Spa...  2021-10-13T12:00:00Z   \n",
       "2  11 Scary Space Facts That'll Make You Apprecia...  2021-10-08T12:00:00Z   \n",
       "3  UK takes on Elon Musk in the broadband space r...  2021-10-10T14:01:00Z   \n",
       "4  Blue Origin postpones William Shatner’s space ...  2021-10-10T19:12:00Z   \n",
       "\n",
       "                                                 url  \\\n",
       "0  https://www.engadget.com/william-shatner-blue-...   \n",
       "1  https://www.wired.com/story/jett-the-far-shore...   \n",
       "2  https://lifehacker.com/11-scary-space-facts-th...   \n",
       "3  https://techncruncher.blogspot.com/2021/10/uk-...   \n",
       "4  https://techncruncher.blogspot.com/2021/10/blu...   \n",
       "\n",
       "                          author                                  source  \n",
       "0                     Jon Fingas  {'id': 'engadget', 'name': 'Engadget'}  \n",
       "1                   Lewis Gordon        {'id': 'wired', 'name': 'Wired'}  \n",
       "2                Stephen Johnson  {'id': None, 'name': 'Lifehacker.com'}  \n",
       "3  noreply@blogger.com (Unknown)    {'id': None, 'name': 'Blogspot.com'}  \n",
       "4  noreply@blogger.com (Unknown)    {'id': None, 'name': 'Blogspot.com'}  "
      ]
     },
     "execution_count": 2,
     "metadata": {},
     "output_type": "execute_result"
    }
   ],
   "source": [
    "import pandas as pd #same file\n",
    "#this is the file uploaded on canvas under exercise 11\n",
    "newsItems = pd.read_csv('../../../../Data Management/AC track data/2021-10-18 News items on space.csv')\n",
    "newsItems.head()"
   ]
  },
  {
   "cell_type": "code",
   "execution_count": 4,
   "metadata": {},
   "outputs": [],
   "source": [
    "corpusTokens = preprocessing(newsItems.string) #preprocessing"
   ]
  },
  {
   "cell_type": "code",
   "execution_count": 5,
   "metadata": {},
   "outputs": [],
   "source": [
    "corpusNonstop = [(' ').join(document) for document in corpusTokens] #concatenating back to \"sentence\" (from token lists)"
   ]
  },
  {
   "cell_type": "code",
   "execution_count": 6,
   "metadata": {},
   "outputs": [
    {
     "data": {
      "text/plain": [
       "'william shatner becomes oldest person reach space it official plenty hype slight delay william shatner become oldest person fly space the star trek icon one four crew members aboard blue origin mission flew altitude 66 miles he it official plenty hype slight delay william shatner become oldest person fly space the star trek icon one four crew members aboard blue origin chars'"
      ]
     },
     "execution_count": 6,
     "metadata": {},
     "output_type": "execute_result"
    }
   ],
   "source": [
    "corpusNonstop[0] #inspecting"
   ]
  },
  {
   "cell_type": "code",
   "execution_count": 7,
   "metadata": {},
   "outputs": [],
   "source": [
    "from sklearn.feature_extraction.text import TfidfVectorizer  #using sklearn package to vectorize \n",
    "\n",
    "v_tr = TfidfVectorizer(min_df=1, use_idf=False) #this time only running TF, not idf.\n",
    "tfMatrix = v_tr.fit_transform(corpusNonstop)  #quickly creating representations for all documents (BoW-TF)"
   ]
  },
  {
   "cell_type": "code",
   "execution_count": 8,
   "metadata": {},
   "outputs": [],
   "source": [
    "cosine_sim = tfMatrix * tfMatrix.T  #creating a pairwise cosine similarity array"
   ]
  },
  {
   "cell_type": "code",
   "execution_count": 9,
   "metadata": {},
   "outputs": [],
   "source": [
    "import numpy as np"
   ]
  },
  {
   "cell_type": "code",
   "execution_count": 10,
   "metadata": {},
   "outputs": [
    {
     "data": {
      "text/plain": [
       "(20, 20)"
      ]
     },
     "execution_count": 10,
     "metadata": {},
     "output_type": "execute_result"
    }
   ],
   "source": [
    "pairwise_array = cosine_sim.toarray() #converting to array shape (from sparse array)\n",
    "pairwise_array.shape # we have 20 documents, each compared with itself and 19 others."
   ]
  },
  {
   "cell_type": "markdown",
   "metadata": {},
   "source": [
    "### Now that we have our pairwise comparisons, lets display the best matches for a given document in the batch"
   ]
  },
  {
   "cell_type": "code",
   "execution_count": 11,
   "metadata": {},
   "outputs": [],
   "source": [
    "for i in range(pairwise_array.shape[0]):\n",
    "    pairwise_array[i,i] = 0   #we are not interested in selecting a comparison between a document and itself. thus, setting those values to zero"
   ]
  },
  {
   "cell_type": "code",
   "execution_count": 64,
   "metadata": {},
   "outputs": [
    {
     "name": "stdout",
     "output_type": "stream",
     "text": [
      "text results from cosine similarity between BoW-TF representations\n",
      "------------------------------------------------------------------\n",
      "random source: index 4\n",
      "top 5 matches:\n",
      "[16, 6, 5, 17, 0] \n",
      "\n",
      "\n",
      "\n",
      "Source and results, original documents\n",
      "\n",
      "random source:\n",
      "---------------\n",
      "Blue Origin postpones William Shatner’s space flight by a day: William Shatner is heading to space on October 13th | Photo by Axelle/Bauer-Griffin/FilmMagic\n",
      "Jeff Bezos’ spaceflight company Blue Origin said Sunday it will postpone the flight that is slated to fly William Shatner to space due to forecasted high winds at i…: William Shatner is heading to space on October 13th | Photo by Axelle/Bauer-Griffin/FilmMagic\n",
      "Jeff Bezos’ spaceflight company Blue Origin said Sunday it will postpone the flight that is slated to fl… [+736 chars] \n",
      "---------------\n",
      "\n",
      "\n",
      "results:\n",
      "---------------\n",
      "( match  1 )\n",
      "( score: 0.57 )\n",
      "Winds delay Blue Origin's space launch with Shatner - Reuters: Jeff Bezos' space company Blue Origin said on Sunday it had pushed this week's launch target of its New Shepard vehicle to Wednesday, delaying \"Star Trek\" actor William Shatner's sojourn to the edge of space by a day.: William Shatner tours the launch tower with Blue Origin's Sarah Knights at Launch Site One near Van Horn, Texas, U.S. in an undated still image from video. Blue Origin/Handout via REUTERSOct 10 (Reut… [+1068 chars] \n",
      "---------------\n",
      "\n",
      "( match  2 )\n",
      "( score: 0.57 )\n",
      "William Shatner, 90, is headed to space: Captain Kirk is headed to space.: (CNN)Captain Kirk is headed to space.\n",
      "Jeff Bezos' Blue Origin announced Monday actor William Shatner, 90, will be on the next Blue Origin flight alongside and Audrey Powers, Blue Origin's vice presi… [+1001 chars] \n",
      "---------------\n",
      "\n",
      "( match  3 )\n",
      "( score: 0.5 )\n",
      "Blue Origin will fly William Shatner to the edge of space on October 12th: After decades of pretending to explore the universe in TV shows and movies, William Shatner is actually going to space. Blue Origin's second tourist spaceflight is scheduled for October 12th. The Star Trek actor and apparent Twitter verification gatekeeper wi…: After decades of pretending to explore the universe in TV shows and movies, William Shatner is actually going to space. Blue Origin's second tourist spaceflight is scheduled for October 12th. The Sta… [+1199 chars] \n",
      "---------------\n",
      "\n",
      "( match  4 )\n",
      "( score: 0.49 )\n",
      "William Shatner's Blue Origin Space Mission Delayed: Shatner was slated to depart Earth on Tuesday.: The launch of Blue Origins New Shepard NS-18 vessel, which will be carrying actor William Shatner, was delayed one day due to weather. It was slated to depart Earth on Tuesday. \n",
      "Forecasted winds pus… [+959 chars] \n",
      "---------------\n",
      "\n",
      "( match  5 )\n",
      "( score: 0.39 )\n",
      "William Shatner becomes the oldest person to reach space: It's official: after plenty of hype and a slight delay, William Shatner has become the oldest person to fly to space. The 90-year-old Star Trek icon was one of four crew members aboard Blue Origin's NS-18 mission as it flew to an altitude of 66 miles. He edge…: It's official: after plenty of hype and a slight delay, William Shatner has become the oldest person to fly to space. The 90-year-old Star Trek icon was one of four crew members aboard Blue Origin's … [+1151 chars] \n",
      "---------------\n",
      "\n"
     ]
    }
   ],
   "source": [
    "from random import random\n",
    "random_select = int(random()*20) #generating a random number between 0 and 20\n",
    "\n",
    "n_matches = 5    #choosing number of matches to return\n",
    "\n",
    "topNmatches = list(np.argsort(pairwise_array[random_select])[-n_matches:]) #getting the top n_matches for the random_select sample\n",
    "topNmatches.reverse()  #because argsort delivers them the opposite sort of what Im looking for, reversing the list\n",
    "\n",
    "print('text results from cosine similarity between BoW-TF representations') #printing results with basic print statements for quick analysis\n",
    "print('------------------------------------------------------------------')\n",
    "\n",
    "print('random source: index',random_select)\n",
    "print('top '+str(n_matches)+' matches:')\n",
    "print(topNmatches,'\\n\\n\\n')\n",
    "print('Source and results, original documents\\n')\n",
    "print('random source:\\n---------------')\n",
    "print(newsItems.string[random_select],'\\n---------------')\n",
    "print('\\n\\nresults:\\n---------------')\n",
    "for num,match in enumerate(topNmatches):\n",
    "    print('( match ',num+1,')')\n",
    "    print('( score:',np.round(pairwise_array[random_select,match],2),')')\n",
    "    print(newsItems.string[match],'\\n---------------\\n')\n",
    "    "
   ]
  },
  {
   "cell_type": "code",
   "execution_count": null,
   "metadata": {},
   "outputs": [],
   "source": []
  }
 ],
 "metadata": {
  "kernelspec": {
   "display_name": "Python 3",
   "language": "python",
   "name": "python3"
  },
  "language_info": {
   "codemirror_mode": {
    "name": "ipython",
    "version": 3
   },
   "file_extension": ".py",
   "mimetype": "text/x-python",
   "name": "python",
   "nbconvert_exporter": "python",
   "pygments_lexer": "ipython3",
   "version": "3.8.5"
  },
  "widgets": {
   "application/vnd.jupyter.widget-state+json": {
    "state": {},
    "version_major": 2,
    "version_minor": 0
   }
  }
 },
 "nbformat": 4,
 "nbformat_minor": 4
}

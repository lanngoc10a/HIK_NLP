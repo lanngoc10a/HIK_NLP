{
 "cells": [
  {
   "cell_type": "markdown",
   "id": "8874f29e",
   "metadata": {},
   "source": [
    "# Introduction"
   ]
  },
  {
   "cell_type": "markdown",
   "id": "524cc8d4",
   "metadata": {},
   "source": [
    "A common question is \"why do we need to have both a validation set _and_ a test set in machine learning?\". \n",
    "\n",
    "Here's a quick illustration of what can go wrong if you do model-selection based on test set performance. \n",
    "\n",
    "We'll generate some completely random binary classification data, with the same number of instances in each class. Meaning that it's not possible to create a model that can perform better than 50-50 on new data. \n",
    "\n",
    "Then we'll see how easy it is to get a model that performs better than 50-50 on the test set ***if we choose the model based on its test set performance***, and how having a validation set for the model selection step avoids this issue. "
   ]
  },
  {
   "cell_type": "markdown",
   "id": "4ac1afbd",
   "metadata": {},
   "source": [
    "# Setup"
   ]
  },
  {
   "cell_type": "code",
   "execution_count": 1,
   "id": "113d2770",
   "metadata": {},
   "outputs": [],
   "source": [
    "%matplotlib inline\n",
    "\n",
    "import numpy as np, matplotlib.pyplot as plt"
   ]
  },
  {
   "cell_type": "code",
   "execution_count": 2,
   "id": "3153cdae",
   "metadata": {},
   "outputs": [],
   "source": [
    "np.random.seed(3)"
   ]
  },
  {
   "cell_type": "markdown",
   "id": "4de32309",
   "metadata": {},
   "source": [
    "# Create the data set"
   ]
  },
  {
   "cell_type": "markdown",
   "id": "d11f9c2e",
   "metadata": {},
   "source": [
    "We'll make a random data set with 1000 instances, five features (that have random values between 0 and 1) and two two classes with 500 instances in each one. \n",
    "\n",
    "To better see what's going on, here's a smaller version:"
   ]
  },
  {
   "cell_type": "code",
   "execution_count": 3,
   "id": "46819ec0",
   "metadata": {},
   "outputs": [],
   "source": [
    "X_sample = np.random.rand(10, 5)\n",
    "y_sample = np.append(np.ones((1,5), dtype=int), np.zeros((1,5), dtype=int))"
   ]
  },
  {
   "cell_type": "markdown",
   "id": "e1261dbe",
   "metadata": {},
   "source": [
    "Here's the data:"
   ]
  },
  {
   "cell_type": "code",
   "execution_count": 4,
   "id": "c3d2ca67",
   "metadata": {},
   "outputs": [
    {
     "data": {
      "text/plain": [
       "array([[0.5507979 , 0.70814782, 0.29090474, 0.51082761, 0.89294695],\n",
       "       [0.89629309, 0.12558531, 0.20724288, 0.0514672 , 0.44080984],\n",
       "       [0.02987621, 0.45683322, 0.64914405, 0.27848728, 0.6762549 ],\n",
       "       [0.59086282, 0.02398188, 0.55885409, 0.25925245, 0.4151012 ],\n",
       "       [0.28352508, 0.69313792, 0.44045372, 0.15686774, 0.54464902],\n",
       "       [0.78031476, 0.30636353, 0.22195788, 0.38797126, 0.93638365],\n",
       "       [0.97599542, 0.67238368, 0.90283411, 0.84575087, 0.37799404],\n",
       "       [0.09221701, 0.6534109 , 0.55784076, 0.36156476, 0.2250545 ],\n",
       "       [0.40651992, 0.46894025, 0.26923558, 0.29179277, 0.4576864 ],\n",
       "       [0.86053391, 0.5862529 , 0.28348786, 0.27797751, 0.45462208]])"
      ]
     },
     "execution_count": 4,
     "metadata": {},
     "output_type": "execute_result"
    }
   ],
   "source": [
    "X_sample"
   ]
  },
  {
   "cell_type": "markdown",
   "id": "9171e644",
   "metadata": {},
   "source": [
    "Here are the labels:"
   ]
  },
  {
   "cell_type": "code",
   "execution_count": 5,
   "id": "8d519c9d",
   "metadata": {},
   "outputs": [
    {
     "data": {
      "text/plain": [
       "array([1, 1, 1, 1, 1, 0, 0, 0, 0, 0])"
      ]
     },
     "execution_count": 5,
     "metadata": {},
     "output_type": "execute_result"
    }
   ],
   "source": [
    "y_sample"
   ]
  },
  {
   "cell_type": "markdown",
   "id": "cc49cdca",
   "metadata": {},
   "source": [
    "The bigger data set:"
   ]
  },
  {
   "cell_type": "code",
   "execution_count": 6,
   "id": "270bd0ae",
   "metadata": {},
   "outputs": [],
   "source": [
    "X = np.random.rand(1000, 5)\n",
    "y = np.append(np.ones((1,500), dtype=int), np.zeros((1,500), dtype=int))"
   ]
  },
  {
   "cell_type": "markdown",
   "id": "76620da3",
   "metadata": {},
   "source": [
    "500 samples belonging to class 0, 500 to class 1. Random feature values in all the 5 features. \n",
    "\n",
    "> It is completely futile to create a predictive model that can in any way make a better-than-chance classification using this data set. We proceed. "
   ]
  },
  {
   "cell_type": "markdown",
   "id": "16d9887d",
   "metadata": {},
   "source": [
    "# Prepare data for ML"
   ]
  },
  {
   "cell_type": "markdown",
   "id": "ca6a94c9",
   "metadata": {},
   "source": [
    "We split off a test set using stratified splitting:"
   ]
  },
  {
   "cell_type": "code",
   "execution_count": 7,
   "id": "b330c13d",
   "metadata": {},
   "outputs": [],
   "source": [
    "from sklearn.model_selection import train_test_split"
   ]
  },
  {
   "cell_type": "code",
   "execution_count": 8,
   "id": "b6ffaaf7",
   "metadata": {},
   "outputs": [],
   "source": [
    "X_train, X_test, y_train, y_test = train_test_split(X, y, stratify=y, random_state=42)"
   ]
  },
  {
   "cell_type": "markdown",
   "id": "83f2a6f3",
   "metadata": {},
   "source": [
    "We see that we've kept the class balanced also in the training and test set. "
   ]
  },
  {
   "cell_type": "code",
   "execution_count": 9,
   "id": "e3943d96",
   "metadata": {},
   "outputs": [
    {
     "data": {
      "image/png": "[encoded data removed]",
      "text/plain": [
       "<Figure size 432x288 with 1 Axes>"
      ]
     },
     "metadata": {
      "needs_background": "light"
     },
     "output_type": "display_data"
    }
   ],
   "source": [
    "plt.hist(y_train)\n",
    "plt.show()"
   ]
  },
  {
   "cell_type": "code",
   "execution_count": 10,
   "id": "7c6ad350",
   "metadata": {},
   "outputs": [
    {
     "data": {
      "image/png": "[encoded data removed]",
      "text/plain": [
       "<Figure size 432x288 with 1 Axes>"
      ]
     },
     "metadata": {
      "needs_background": "light"
     },
     "output_type": "display_data"
    }
   ],
   "source": [
    "plt.hist(y_test)\n",
    "plt.show()"
   ]
  },
  {
   "cell_type": "markdown",
   "id": "a9b416e4",
   "metadata": {},
   "source": [
    "This means that the expected performance is still 50-50 on the test set. "
   ]
  },
  {
   "cell_type": "markdown",
   "id": "fa1ba3bf",
   "metadata": {},
   "source": [
    "# Modelling"
   ]
  },
  {
   "cell_type": "markdown",
   "id": "0f097eb1",
   "metadata": {},
   "source": [
    "We'll create a bunch of slightly different random forest models by varying the random states. You should think of this as an example of the more general process of model selection where one tries out many different models (and model ensembles)."
   ]
  },
  {
   "cell_type": "code",
   "execution_count": 11,
   "id": "f432d905",
   "metadata": {},
   "outputs": [],
   "source": [
    "from sklearn.ensemble import RandomForestClassifier"
   ]
  },
  {
   "cell_type": "code",
   "execution_count": 12,
   "id": "cf04c61f",
   "metadata": {},
   "outputs": [],
   "source": [
    "nb_models = 200\n",
    "\n",
    "models = [RandomForestClassifier(random_state=seed, n_jobs=-1) for seed in range(nb_models)]"
   ]
  },
  {
   "cell_type": "code",
   "execution_count": 14,
   "id": "1a817d29",
   "metadata": {
    "scrolled": false
   },
   "outputs": [
    {
     "name": "stdout",
     "output_type": "stream",
     "text": [
      "The current best model is number 0,\n",
      "which has an accuracy of 0.508 on the test set\n",
      "\n",
      "########################################\n",
      "The current best model is number 2,\n",
      "which has an accuracy of 0.536 on the test set\n",
      "\n",
      "########################################\n",
      "The current best model is number 17,\n",
      "which has an accuracy of 0.56 on the test set\n",
      "\n",
      "########################################\n"
     ]
    }
   ],
   "source": [
    "best_accuracy = 0.\n",
    "\n",
    "for i in range(nb_models):\n",
    "    model = models[i]\n",
    "    model.fit(X_train, y_train)\n",
    "    acc = model.score(X_test, y_test)\n",
    "    if acc > best_accuracy:\n",
    "        best_accuracy = acc\n",
    "        print(f\"The current best model is number {i},\")\n",
    "        print(f\"which has an accuracy of {acc} on the test set\\n\")\n",
    "        print(\"#\"*40)"
   ]
  },
  {
   "cell_type": "markdown",
   "id": "9681b021",
   "metadata": {},
   "source": [
    "That's a pretty good accuracy, considering that the data set is random!"
   ]
  },
  {
   "cell_type": "markdown",
   "id": "17e7e068",
   "metadata": {},
   "source": [
    "# What if we had a validation set?"
   ]
  },
  {
   "cell_type": "markdown",
   "id": "18ccd496",
   "metadata": {},
   "source": [
    "Let's create a validation set in addition to the training and test sets we already have. "
   ]
  },
  {
   "cell_type": "code",
   "execution_count": 15,
   "id": "625b4735",
   "metadata": {},
   "outputs": [],
   "source": [
    "X_train, X_val, y_train, y_val = train_test_split(X_train, y_train, stratify=y_train, random_state=42)"
   ]
  },
  {
   "cell_type": "code",
   "execution_count": 16,
   "id": "e2f72e09",
   "metadata": {},
   "outputs": [
    {
     "data": {
      "text/plain": [
       "(562, 188)"
      ]
     },
     "execution_count": 16,
     "metadata": {},
     "output_type": "execute_result"
    }
   ],
   "source": [
    "len(X_train), len(X_val)"
   ]
  },
  {
   "cell_type": "markdown",
   "id": "47480f30",
   "metadata": {},
   "source": [
    "Let's then use the more appropriate way to select among the models we're training: namely using the validation set performance:"
   ]
  },
  {
   "cell_type": "code",
   "execution_count": 18,
   "id": "86da82a8",
   "metadata": {},
   "outputs": [],
   "source": [
    "models = [RandomForestClassifier(random_state=seed, n_jobs=-1) for seed in range(nb_models)]"
   ]
  },
  {
   "cell_type": "code",
   "execution_count": 19,
   "id": "ff1a2c8d",
   "metadata": {
    "scrolled": false
   },
   "outputs": [
    {
     "name": "stdout",
     "output_type": "stream",
     "text": [
      "The current best model is number 0,\n",
      "which has an accuracy of 0.5425531914893617 on the validation set\n",
      "\n",
      "########################################\n",
      "The current best model is number 11,\n",
      "which has an accuracy of 0.5531914893617021 on the validation set\n",
      "\n",
      "########################################\n",
      "The current best model is number 18,\n",
      "which has an accuracy of 0.574468085106383 on the validation set\n",
      "\n",
      "########################################\n"
     ]
    }
   ],
   "source": [
    "best_val_accuracy = 0.\n",
    "best_model = None\n",
    "\n",
    "for i in range(nb_models):\n",
    "    model = models[i]\n",
    "    model.fit(X_train, y_train)\n",
    "    acc = model.score(X_val, y_val)\n",
    "    if acc > best_val_accuracy:\n",
    "        best_model = model\n",
    "        best_val_accuracy = acc\n",
    "        print(f\"The current best model is number {i},\")\n",
    "        print(f\"which has an accuracy of {acc} on the validation set\\n\")\n",
    "        print(\"#\"*40)"
   ]
  },
  {
   "cell_type": "markdown",
   "id": "6791afbf",
   "metadata": {},
   "source": [
    "The best model has a score of ~57% on the validation set. Better than chance?!"
   ]
  },
  {
   "cell_type": "markdown",
   "id": "097d03de",
   "metadata": {},
   "source": [
    "But let's see how it performs on the test set:"
   ]
  },
  {
   "cell_type": "code",
   "execution_count": 20,
   "id": "afb77b4b",
   "metadata": {},
   "outputs": [
    {
     "data": {
      "text/plain": [
       "0.508"
      ]
     },
     "execution_count": 20,
     "metadata": {},
     "output_type": "execute_result"
    }
   ],
   "source": [
    "best_model.score(X_test, y_test)"
   ]
  },
  {
   "cell_type": "markdown",
   "id": "0e8fb14a",
   "metadata": {},
   "source": [
    "Still random. "
   ]
  },
  {
   "cell_type": "markdown",
   "id": "877b6384",
   "metadata": {},
   "source": [
    "What's going on? Since we try out a bunch of models on the validation data set, some can, by chance, seem to be able to make better-than-chance predictions. And we are led to pick that model. But in a correct machine learning setup one wouldn't stop there and report the validation accuracy as the final performance estimate! Realising the possibility of _overfitting_ to the validation data, one would have a separate test set used to estimate the actual generalization performance of the model. As we see in the above simulation, that's a good idea. The \"best model\" as measured by the validation performance is still no good.  "
   ]
  }
 ],
 "metadata": {
  "kernelspec": {
   "display_name": "DAT801",
   "language": "python",
   "name": "dat801"
  },
  "language_info": {
   "codemirror_mode": {
    "name": "ipython",
    "version": 3
   },
   "file_extension": ".py",
   "mimetype": "text/x-python",
   "name": "python",
   "nbconvert_exporter": "python",
   "pygments_lexer": "ipython3",
   "version": "3.9.6"
  }
 },
 "nbformat": 4,
 "nbformat_minor": 5
}
